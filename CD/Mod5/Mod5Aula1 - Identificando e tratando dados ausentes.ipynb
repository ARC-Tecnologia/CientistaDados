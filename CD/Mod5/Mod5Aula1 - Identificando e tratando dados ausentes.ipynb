{
 "cells": [
  {
   "cell_type": "markdown",
   "metadata": {},
   "source": [
    "# 0. Índice <a name=\"Contents\"></a>\n",
    "1. [Importando bibliotecas](#import)\n",
    "2. [Construindo um dataframe](#read)\n",
    "3. [Identificando dados ausentes/missing](#identificando)\n",
    "4. [Tratando dados ausentes/missing](#tratando)\n",
    "5. [Dados duplicados](#duplicados)\n",
    "6. [Mapeamento](#map)\n",
    "\n"
   ]
  },
  {
   "cell_type": "markdown",
   "metadata": {},
   "source": [
    "# 1. Importando bibliotecas <a name=\"import\"></a>\n",
    "\n",
    "<div style=\"text-align: right\"\n",
    "     \n",
    "[Voltar ao índice](#Contents)"
   ]
  },
  {
   "cell_type": "code",
   "execution_count": 1,
   "metadata": {
    "ExecuteTime": {
     "end_time": "2021-06-06T21:12:37.298706Z",
     "start_time": "2021-06-06T21:12:36.656481Z"
    }
   },
   "outputs": [],
   "source": [
    "import pandas as pd\n",
    "import numpy as np"
   ]
  },
  {
   "cell_type": "markdown",
   "metadata": {},
   "source": [
    "# 2. Construindo um dataframe <a name=\"read\"></a>\n",
    "<div style=\"text-align: right\"\n",
    "     \n",
    "[Voltar ao índice](#Contents)"
   ]
  },
  {
   "cell_type": "code",
   "execution_count": 2,
   "metadata": {
    "ExecuteTime": {
     "end_time": "2021-06-06T21:12:37.762376Z",
     "start_time": "2021-06-06T21:12:37.728383Z"
    }
   },
   "outputs": [
    {
     "data": {
      "text/html": [
       "<div>\n",
       "<style scoped>\n",
       "    .dataframe tbody tr th:only-of-type {\n",
       "        vertical-align: middle;\n",
       "    }\n",
       "\n",
       "    .dataframe tbody tr th {\n",
       "        vertical-align: top;\n",
       "    }\n",
       "\n",
       "    .dataframe thead th {\n",
       "        text-align: right;\n",
       "    }\n",
       "</style>\n",
       "<table border=\"1\" class=\"dataframe\">\n",
       "  <thead>\n",
       "    <tr style=\"text-align: right;\">\n",
       "      <th></th>\n",
       "      <th>coluna1</th>\n",
       "      <th>coluna2</th>\n",
       "      <th>coluna3</th>\n",
       "      <th>coluna4</th>\n",
       "    </tr>\n",
       "  </thead>\n",
       "  <tbody>\n",
       "    <tr>\n",
       "      <th>A</th>\n",
       "      <td>-17.389487</td>\n",
       "      <td>59.518328</td>\n",
       "      <td>47.591514</td>\n",
       "      <td>-133.986451</td>\n",
       "    </tr>\n",
       "    <tr>\n",
       "      <th>B</th>\n",
       "      <td>-66.609504</td>\n",
       "      <td>74.386571</td>\n",
       "      <td>134.932733</td>\n",
       "      <td>-112.326773</td>\n",
       "    </tr>\n",
       "    <tr>\n",
       "      <th>C</th>\n",
       "      <td>187.995904</td>\n",
       "      <td>-48.164639</td>\n",
       "      <td>-33.957511</td>\n",
       "      <td>-83.633157</td>\n",
       "    </tr>\n",
       "    <tr>\n",
       "      <th>D</th>\n",
       "      <td>19.358900</td>\n",
       "      <td>-78.735212</td>\n",
       "      <td>-163.095188</td>\n",
       "      <td>-15.152938</td>\n",
       "    </tr>\n",
       "    <tr>\n",
       "      <th>E</th>\n",
       "      <td>290.012142</td>\n",
       "      <td>-155.624172</td>\n",
       "      <td>44.176894</td>\n",
       "      <td>-154.423757</td>\n",
       "    </tr>\n",
       "    <tr>\n",
       "      <th>F</th>\n",
       "      <td>-64.082259</td>\n",
       "      <td>-4.830413</td>\n",
       "      <td>84.899412</td>\n",
       "      <td>4.709168</td>\n",
       "    </tr>\n",
       "    <tr>\n",
       "      <th>G</th>\n",
       "      <td>-85.580945</td>\n",
       "      <td>-29.316424</td>\n",
       "      <td>44.443369</td>\n",
       "      <td>-2.689055</td>\n",
       "    </tr>\n",
       "    <tr>\n",
       "      <th>H</th>\n",
       "      <td>122.589064</td>\n",
       "      <td>60.061342</td>\n",
       "      <td>-154.449920</td>\n",
       "      <td>37.652009</td>\n",
       "    </tr>\n",
       "    <tr>\n",
       "      <th>I</th>\n",
       "      <td>-111.319175</td>\n",
       "      <td>-67.655609</td>\n",
       "      <td>98.806496</td>\n",
       "      <td>-35.168995</td>\n",
       "    </tr>\n",
       "  </tbody>\n",
       "</table>\n",
       "</div>"
      ],
      "text/plain": [
       "      coluna1     coluna2     coluna3     coluna4\n",
       "A  -17.389487   59.518328   47.591514 -133.986451\n",
       "B  -66.609504   74.386571  134.932733 -112.326773\n",
       "C  187.995904  -48.164639  -33.957511  -83.633157\n",
       "D   19.358900  -78.735212 -163.095188  -15.152938\n",
       "E  290.012142 -155.624172   44.176894 -154.423757\n",
       "F  -64.082259   -4.830413   84.899412    4.709168\n",
       "G  -85.580945  -29.316424   44.443369   -2.689055\n",
       "H  122.589064   60.061342 -154.449920   37.652009\n",
       "I -111.319175  -67.655609   98.806496  -35.168995"
      ]
     },
     "execution_count": 2,
     "metadata": {},
     "output_type": "execute_result"
    }
   ],
   "source": [
    "df = pd.DataFrame(\n",
    "    np.random.randn(9, 4)*100, #estamos criando nove linhas e 4 colunas\n",
    "    index=[\"A\", \"B\", \"C\", \"D\", \"E\", \"F\", \"G\", \"H\", \"I\"], #identificando, dando nome as linhas \n",
    "    columns=[\"coluna1\", \"coluna2\", \"coluna3\",\"coluna4\"], #identificando, dando nome as colunas\n",
    ")\n",
    "df"
   ]
  },
  {
   "cell_type": "code",
   "execution_count": 3,
   "metadata": {
    "ExecuteTime": {
     "end_time": "2021-06-06T21:12:37.905357Z",
     "start_time": "2021-06-06T21:12:37.898346Z"
    }
   },
   "outputs": [
    {
     "data": {
      "text/plain": [
       "coluna1    float64\n",
       "coluna2    float64\n",
       "coluna3    float64\n",
       "coluna4    float64\n",
       "dtype: object"
      ]
     },
     "execution_count": 3,
     "metadata": {},
     "output_type": "execute_result"
    }
   ],
   "source": [
    "df.dtypes #mostrando os tipos da coluna"
   ]
  },
  {
   "cell_type": "markdown",
   "metadata": {},
   "source": [
    "## Alterando os tipos de dados"
   ]
  },
  {
   "cell_type": "code",
   "execution_count": 4,
   "metadata": {
    "ExecuteTime": {
     "end_time": "2021-06-06T21:12:38.347455Z",
     "start_time": "2021-06-06T21:12:38.328485Z"
    }
   },
   "outputs": [],
   "source": [
    "df['coluna1'] = df['coluna1'].astype(int) #alterando o valor da coluna 1 para int"
   ]
  },
  {
   "cell_type": "code",
   "execution_count": 4,
   "metadata": {
    "ExecuteTime": {
     "end_time": "2021-06-06T21:12:38.691540Z",
     "start_time": "2021-06-06T21:12:38.682542Z"
    }
   },
   "outputs": [
    {
     "data": {
      "text/plain": [
       "coluna1    float64\n",
       "coluna2    float64\n",
       "coluna3    float64\n",
       "coluna4    float64\n",
       "dtype: object"
      ]
     },
     "execution_count": 4,
     "metadata": {},
     "output_type": "execute_result"
    }
   ],
   "source": [
    "df.dtypes"
   ]
  },
  {
   "cell_type": "code",
   "execution_count": 7,
   "metadata": {
    "ExecuteTime": {
     "end_time": "2021-06-06T21:12:38.880255Z",
     "start_time": "2021-06-06T21:12:38.862253Z"
    }
   },
   "outputs": [],
   "source": [
    "df['coluna3'] = df['coluna3'].astype(str) #alterando o valor da coluna 1 para str"
   ]
  },
  {
   "cell_type": "code",
   "execution_count": 8,
   "metadata": {
    "ExecuteTime": {
     "end_time": "2021-06-06T21:12:39.053345Z",
     "start_time": "2021-06-06T21:12:39.040378Z"
    }
   },
   "outputs": [
    {
     "data": {
      "text/plain": [
       "coluna1    float64\n",
       "coluna2    float64\n",
       "coluna3     object\n",
       "coluna4    float64\n",
       "dtype: object"
      ]
     },
     "execution_count": 8,
     "metadata": {},
     "output_type": "execute_result"
    }
   ],
   "source": [
    "df.dtypes"
   ]
  },
  {
   "cell_type": "code",
   "execution_count": 9,
   "metadata": {
    "ExecuteTime": {
     "end_time": "2021-06-06T21:12:39.242790Z",
     "start_time": "2021-06-06T21:12:39.218792Z"
    },
    "collapsed": true
   },
   "outputs": [
    {
     "data": {
      "text/html": [
       "<div>\n",
       "<style scoped>\n",
       "    .dataframe tbody tr th:only-of-type {\n",
       "        vertical-align: middle;\n",
       "    }\n",
       "\n",
       "    .dataframe tbody tr th {\n",
       "        vertical-align: top;\n",
       "    }\n",
       "\n",
       "    .dataframe thead th {\n",
       "        text-align: right;\n",
       "    }\n",
       "</style>\n",
       "<table border=\"1\" class=\"dataframe\">\n",
       "  <thead>\n",
       "    <tr style=\"text-align: right;\">\n",
       "      <th></th>\n",
       "      <th>coluna1</th>\n",
       "      <th>coluna2</th>\n",
       "      <th>coluna3</th>\n",
       "      <th>coluna4</th>\n",
       "    </tr>\n",
       "  </thead>\n",
       "  <tbody>\n",
       "    <tr>\n",
       "      <th>A</th>\n",
       "      <td>-17.389487</td>\n",
       "      <td>59.518328</td>\n",
       "      <td>47.59151409371285</td>\n",
       "      <td>-133.986451</td>\n",
       "    </tr>\n",
       "    <tr>\n",
       "      <th>B</th>\n",
       "      <td>-66.609504</td>\n",
       "      <td>74.386571</td>\n",
       "      <td>134.93273259013816</td>\n",
       "      <td>-112.326773</td>\n",
       "    </tr>\n",
       "    <tr>\n",
       "      <th>C</th>\n",
       "      <td>187.995904</td>\n",
       "      <td>-48.164639</td>\n",
       "      <td>-33.95751108540437</td>\n",
       "      <td>-83.633157</td>\n",
       "    </tr>\n",
       "    <tr>\n",
       "      <th>D</th>\n",
       "      <td>19.358900</td>\n",
       "      <td>-78.735212</td>\n",
       "      <td>-163.09518773037985</td>\n",
       "      <td>-15.152938</td>\n",
       "    </tr>\n",
       "    <tr>\n",
       "      <th>E</th>\n",
       "      <td>290.012142</td>\n",
       "      <td>-155.624172</td>\n",
       "      <td>44.176893650201784</td>\n",
       "      <td>-154.423757</td>\n",
       "    </tr>\n",
       "    <tr>\n",
       "      <th>F</th>\n",
       "      <td>-64.082259</td>\n",
       "      <td>-4.830413</td>\n",
       "      <td>84.89941165462288</td>\n",
       "      <td>4.709168</td>\n",
       "    </tr>\n",
       "    <tr>\n",
       "      <th>G</th>\n",
       "      <td>-85.580945</td>\n",
       "      <td>-29.316424</td>\n",
       "      <td>44.44336864950651</td>\n",
       "      <td>-2.689055</td>\n",
       "    </tr>\n",
       "    <tr>\n",
       "      <th>H</th>\n",
       "      <td>122.589064</td>\n",
       "      <td>60.061342</td>\n",
       "      <td>-154.44991970725266</td>\n",
       "      <td>37.652009</td>\n",
       "    </tr>\n",
       "    <tr>\n",
       "      <th>I</th>\n",
       "      <td>-111.319175</td>\n",
       "      <td>-67.655609</td>\n",
       "      <td>98.80649587885446</td>\n",
       "      <td>-35.168995</td>\n",
       "    </tr>\n",
       "  </tbody>\n",
       "</table>\n",
       "</div>"
      ],
      "text/plain": [
       "      coluna1     coluna2              coluna3     coluna4\n",
       "A  -17.389487   59.518328    47.59151409371285 -133.986451\n",
       "B  -66.609504   74.386571   134.93273259013816 -112.326773\n",
       "C  187.995904  -48.164639   -33.95751108540437  -83.633157\n",
       "D   19.358900  -78.735212  -163.09518773037985  -15.152938\n",
       "E  290.012142 -155.624172   44.176893650201784 -154.423757\n",
       "F  -64.082259   -4.830413    84.89941165462288    4.709168\n",
       "G  -85.580945  -29.316424    44.44336864950651   -2.689055\n",
       "H  122.589064   60.061342  -154.44991970725266   37.652009\n",
       "I -111.319175  -67.655609    98.80649587885446  -35.168995"
      ]
     },
     "execution_count": 9,
     "metadata": {},
     "output_type": "execute_result"
    }
   ],
   "source": [
    "df"
   ]
  },
  {
   "cell_type": "markdown",
   "metadata": {},
   "source": [
    "## Acrescentando dados faltantes na tabela"
   ]
  },
  {
   "cell_type": "code",
   "execution_count": 10,
   "metadata": {
    "ExecuteTime": {
     "end_time": "2021-06-06T21:12:39.573279Z",
     "start_time": "2021-06-06T21:12:39.564267Z"
    }
   },
   "outputs": [
    {
     "data": {
      "text/plain": [
       "'44.176893650201784'"
      ]
     },
     "execution_count": 10,
     "metadata": {},
     "output_type": "execute_result"
    }
   ],
   "source": [
    "df.iloc[4,2]#o iloc traz o valor da linha 4 coluna 2 "
   ]
  },
  {
   "cell_type": "code",
   "execution_count": 12,
   "metadata": {
    "ExecuteTime": {
     "end_time": "2021-06-06T21:12:39.746161Z",
     "start_time": "2021-06-06T21:12:39.738166Z"
    }
   },
   "outputs": [],
   "source": [
    "df.iloc[4,2] = np.nan #aqui a gente esta alterando o valor da linha 4 coluna 2 para nan"
   ]
  },
  {
   "cell_type": "code",
   "execution_count": 14,
   "metadata": {
    "ExecuteTime": {
     "end_time": "2021-06-06T21:12:39.934151Z",
     "start_time": "2021-06-06T21:12:39.917147Z"
    }
   },
   "outputs": [
    {
     "data": {
      "text/html": [
       "<div>\n",
       "<style scoped>\n",
       "    .dataframe tbody tr th:only-of-type {\n",
       "        vertical-align: middle;\n",
       "    }\n",
       "\n",
       "    .dataframe tbody tr th {\n",
       "        vertical-align: top;\n",
       "    }\n",
       "\n",
       "    .dataframe thead th {\n",
       "        text-align: right;\n",
       "    }\n",
       "</style>\n",
       "<table border=\"1\" class=\"dataframe\">\n",
       "  <thead>\n",
       "    <tr style=\"text-align: right;\">\n",
       "      <th></th>\n",
       "      <th>coluna1</th>\n",
       "      <th>coluna2</th>\n",
       "      <th>coluna3</th>\n",
       "      <th>coluna4</th>\n",
       "    </tr>\n",
       "  </thead>\n",
       "  <tbody>\n",
       "    <tr>\n",
       "      <th>A</th>\n",
       "      <td>-17.389487</td>\n",
       "      <td>59.518328</td>\n",
       "      <td>47.59151409371285</td>\n",
       "      <td>-133.986451</td>\n",
       "    </tr>\n",
       "    <tr>\n",
       "      <th>B</th>\n",
       "      <td>-66.609504</td>\n",
       "      <td>74.386571</td>\n",
       "      <td>134.93273259013816</td>\n",
       "      <td>-112.326773</td>\n",
       "    </tr>\n",
       "    <tr>\n",
       "      <th>C</th>\n",
       "      <td>187.995904</td>\n",
       "      <td>-48.164639</td>\n",
       "      <td>-33.95751108540437</td>\n",
       "      <td>-83.633157</td>\n",
       "    </tr>\n",
       "    <tr>\n",
       "      <th>D</th>\n",
       "      <td>19.358900</td>\n",
       "      <td>-78.735212</td>\n",
       "      <td>-163.09518773037985</td>\n",
       "      <td>-15.152938</td>\n",
       "    </tr>\n",
       "    <tr>\n",
       "      <th>E</th>\n",
       "      <td>290.012142</td>\n",
       "      <td>-155.624172</td>\n",
       "      <td>NaN</td>\n",
       "      <td>-154.423757</td>\n",
       "    </tr>\n",
       "    <tr>\n",
       "      <th>F</th>\n",
       "      <td>-64.082259</td>\n",
       "      <td>-4.830413</td>\n",
       "      <td>84.89941165462288</td>\n",
       "      <td>4.709168</td>\n",
       "    </tr>\n",
       "    <tr>\n",
       "      <th>G</th>\n",
       "      <td>-85.580945</td>\n",
       "      <td>-29.316424</td>\n",
       "      <td>44.44336864950651</td>\n",
       "      <td>-2.689055</td>\n",
       "    </tr>\n",
       "    <tr>\n",
       "      <th>H</th>\n",
       "      <td>122.589064</td>\n",
       "      <td>60.061342</td>\n",
       "      <td>-154.44991970725266</td>\n",
       "      <td>37.652009</td>\n",
       "    </tr>\n",
       "    <tr>\n",
       "      <th>I</th>\n",
       "      <td>-111.319175</td>\n",
       "      <td>-67.655609</td>\n",
       "      <td>98.80649587885446</td>\n",
       "      <td>-35.168995</td>\n",
       "    </tr>\n",
       "  </tbody>\n",
       "</table>\n",
       "</div>"
      ],
      "text/plain": [
       "      coluna1     coluna2              coluna3     coluna4\n",
       "A  -17.389487   59.518328    47.59151409371285 -133.986451\n",
       "B  -66.609504   74.386571   134.93273259013816 -112.326773\n",
       "C  187.995904  -48.164639   -33.95751108540437  -83.633157\n",
       "D   19.358900  -78.735212  -163.09518773037985  -15.152938\n",
       "E  290.012142 -155.624172                  NaN -154.423757\n",
       "F  -64.082259   -4.830413    84.89941165462288    4.709168\n",
       "G  -85.580945  -29.316424    44.44336864950651   -2.689055\n",
       "H  122.589064   60.061342  -154.44991970725266   37.652009\n",
       "I -111.319175  -67.655609    98.80649587885446  -35.168995"
      ]
     },
     "execution_count": 14,
     "metadata": {},
     "output_type": "execute_result"
    }
   ],
   "source": [
    "df"
   ]
  },
  {
   "cell_type": "code",
   "execution_count": 15,
   "metadata": {
    "ExecuteTime": {
     "end_time": "2021-06-06T21:12:40.123274Z",
     "start_time": "2021-06-06T21:12:40.103273Z"
    }
   },
   "outputs": [],
   "source": [
    "df.iloc[1,0] = np.nan\n",
    "df.iloc[4,0] = np.nan\n",
    "df.iloc[3,0] = np.nan\n",
    "df.iloc[8,0] = np.nan\n",
    "df.iloc[6,0] = np.nan\n",
    "df.iloc[4,3] = np.nan\n",
    "df.iloc[4,3] = np.nan\n",
    "df.iloc[8,3] = np.nan"
   ]
  },
  {
   "cell_type": "code",
   "execution_count": 16,
   "metadata": {
    "ExecuteTime": {
     "end_time": "2021-06-06T21:12:40.313753Z",
     "start_time": "2021-06-06T21:12:40.295768Z"
    }
   },
   "outputs": [
    {
     "data": {
      "text/html": [
       "<div>\n",
       "<style scoped>\n",
       "    .dataframe tbody tr th:only-of-type {\n",
       "        vertical-align: middle;\n",
       "    }\n",
       "\n",
       "    .dataframe tbody tr th {\n",
       "        vertical-align: top;\n",
       "    }\n",
       "\n",
       "    .dataframe thead th {\n",
       "        text-align: right;\n",
       "    }\n",
       "</style>\n",
       "<table border=\"1\" class=\"dataframe\">\n",
       "  <thead>\n",
       "    <tr style=\"text-align: right;\">\n",
       "      <th></th>\n",
       "      <th>coluna1</th>\n",
       "      <th>coluna2</th>\n",
       "      <th>coluna3</th>\n",
       "      <th>coluna4</th>\n",
       "    </tr>\n",
       "  </thead>\n",
       "  <tbody>\n",
       "    <tr>\n",
       "      <th>A</th>\n",
       "      <td>-17.389487</td>\n",
       "      <td>59.518328</td>\n",
       "      <td>47.59151409371285</td>\n",
       "      <td>-133.986451</td>\n",
       "    </tr>\n",
       "    <tr>\n",
       "      <th>B</th>\n",
       "      <td>NaN</td>\n",
       "      <td>74.386571</td>\n",
       "      <td>134.93273259013816</td>\n",
       "      <td>-112.326773</td>\n",
       "    </tr>\n",
       "    <tr>\n",
       "      <th>C</th>\n",
       "      <td>187.995904</td>\n",
       "      <td>-48.164639</td>\n",
       "      <td>-33.95751108540437</td>\n",
       "      <td>-83.633157</td>\n",
       "    </tr>\n",
       "    <tr>\n",
       "      <th>D</th>\n",
       "      <td>NaN</td>\n",
       "      <td>-78.735212</td>\n",
       "      <td>-163.09518773037985</td>\n",
       "      <td>-15.152938</td>\n",
       "    </tr>\n",
       "    <tr>\n",
       "      <th>E</th>\n",
       "      <td>NaN</td>\n",
       "      <td>-155.624172</td>\n",
       "      <td>NaN</td>\n",
       "      <td>NaN</td>\n",
       "    </tr>\n",
       "    <tr>\n",
       "      <th>F</th>\n",
       "      <td>-64.082259</td>\n",
       "      <td>-4.830413</td>\n",
       "      <td>84.89941165462288</td>\n",
       "      <td>4.709168</td>\n",
       "    </tr>\n",
       "    <tr>\n",
       "      <th>G</th>\n",
       "      <td>NaN</td>\n",
       "      <td>-29.316424</td>\n",
       "      <td>44.44336864950651</td>\n",
       "      <td>-2.689055</td>\n",
       "    </tr>\n",
       "    <tr>\n",
       "      <th>H</th>\n",
       "      <td>122.589064</td>\n",
       "      <td>60.061342</td>\n",
       "      <td>-154.44991970725266</td>\n",
       "      <td>37.652009</td>\n",
       "    </tr>\n",
       "    <tr>\n",
       "      <th>I</th>\n",
       "      <td>NaN</td>\n",
       "      <td>-67.655609</td>\n",
       "      <td>98.80649587885446</td>\n",
       "      <td>NaN</td>\n",
       "    </tr>\n",
       "  </tbody>\n",
       "</table>\n",
       "</div>"
      ],
      "text/plain": [
       "      coluna1     coluna2              coluna3     coluna4\n",
       "A  -17.389487   59.518328    47.59151409371285 -133.986451\n",
       "B         NaN   74.386571   134.93273259013816 -112.326773\n",
       "C  187.995904  -48.164639   -33.95751108540437  -83.633157\n",
       "D         NaN  -78.735212  -163.09518773037985  -15.152938\n",
       "E         NaN -155.624172                  NaN         NaN\n",
       "F  -64.082259   -4.830413    84.89941165462288    4.709168\n",
       "G         NaN  -29.316424    44.44336864950651   -2.689055\n",
       "H  122.589064   60.061342  -154.44991970725266   37.652009\n",
       "I         NaN  -67.655609    98.80649587885446         NaN"
      ]
     },
     "execution_count": 16,
     "metadata": {},
     "output_type": "execute_result"
    }
   ],
   "source": [
    "df"
   ]
  },
  {
   "cell_type": "code",
   "execution_count": 17,
   "metadata": {
    "ExecuteTime": {
     "end_time": "2021-06-06T21:12:40.830082Z",
     "start_time": "2021-06-06T21:12:40.811093Z"
    }
   },
   "outputs": [
    {
     "data": {
      "text/plain": [
       "coluna1    float64\n",
       "coluna2    float64\n",
       "coluna3     object\n",
       "coluna4    float64\n",
       "dtype: object"
      ]
     },
     "execution_count": 17,
     "metadata": {},
     "output_type": "execute_result"
    }
   ],
   "source": [
    "# Os tipos de dados podem mudar após acrescentar um dado faltante\n",
    "df.dtypes"
   ]
  },
  {
   "cell_type": "markdown",
   "metadata": {},
   "source": [
    "# 3. Identificando dados ausentes <a name=\"identificando\"></a>\n",
    "<div style=\"text-align: right\"\n",
    "     \n",
    "[Voltar ao índice](#Contents)"
   ]
  },
  {
   "cell_type": "code",
   "execution_count": 18,
   "metadata": {
    "ExecuteTime": {
     "end_time": "2021-06-06T21:12:42.301727Z",
     "start_time": "2021-06-06T21:12:42.292736Z"
    }
   },
   "outputs": [
    {
     "data": {
      "text/html": [
       "<div>\n",
       "<style scoped>\n",
       "    .dataframe tbody tr th:only-of-type {\n",
       "        vertical-align: middle;\n",
       "    }\n",
       "\n",
       "    .dataframe tbody tr th {\n",
       "        vertical-align: top;\n",
       "    }\n",
       "\n",
       "    .dataframe thead th {\n",
       "        text-align: right;\n",
       "    }\n",
       "</style>\n",
       "<table border=\"1\" class=\"dataframe\">\n",
       "  <thead>\n",
       "    <tr style=\"text-align: right;\">\n",
       "      <th></th>\n",
       "      <th>coluna1</th>\n",
       "      <th>coluna2</th>\n",
       "      <th>coluna3</th>\n",
       "      <th>coluna4</th>\n",
       "    </tr>\n",
       "  </thead>\n",
       "  <tbody>\n",
       "    <tr>\n",
       "      <th>A</th>\n",
       "      <td>False</td>\n",
       "      <td>False</td>\n",
       "      <td>False</td>\n",
       "      <td>False</td>\n",
       "    </tr>\n",
       "    <tr>\n",
       "      <th>B</th>\n",
       "      <td>True</td>\n",
       "      <td>False</td>\n",
       "      <td>False</td>\n",
       "      <td>False</td>\n",
       "    </tr>\n",
       "    <tr>\n",
       "      <th>C</th>\n",
       "      <td>False</td>\n",
       "      <td>False</td>\n",
       "      <td>False</td>\n",
       "      <td>False</td>\n",
       "    </tr>\n",
       "    <tr>\n",
       "      <th>D</th>\n",
       "      <td>True</td>\n",
       "      <td>False</td>\n",
       "      <td>False</td>\n",
       "      <td>False</td>\n",
       "    </tr>\n",
       "    <tr>\n",
       "      <th>E</th>\n",
       "      <td>True</td>\n",
       "      <td>False</td>\n",
       "      <td>True</td>\n",
       "      <td>True</td>\n",
       "    </tr>\n",
       "    <tr>\n",
       "      <th>F</th>\n",
       "      <td>False</td>\n",
       "      <td>False</td>\n",
       "      <td>False</td>\n",
       "      <td>False</td>\n",
       "    </tr>\n",
       "    <tr>\n",
       "      <th>G</th>\n",
       "      <td>True</td>\n",
       "      <td>False</td>\n",
       "      <td>False</td>\n",
       "      <td>False</td>\n",
       "    </tr>\n",
       "    <tr>\n",
       "      <th>H</th>\n",
       "      <td>False</td>\n",
       "      <td>False</td>\n",
       "      <td>False</td>\n",
       "      <td>False</td>\n",
       "    </tr>\n",
       "    <tr>\n",
       "      <th>I</th>\n",
       "      <td>True</td>\n",
       "      <td>False</td>\n",
       "      <td>False</td>\n",
       "      <td>True</td>\n",
       "    </tr>\n",
       "  </tbody>\n",
       "</table>\n",
       "</div>"
      ],
      "text/plain": [
       "   coluna1  coluna2  coluna3  coluna4\n",
       "A    False    False    False    False\n",
       "B     True    False    False    False\n",
       "C    False    False    False    False\n",
       "D     True    False    False    False\n",
       "E     True    False     True     True\n",
       "F    False    False    False    False\n",
       "G     True    False    False    False\n",
       "H    False    False    False    False\n",
       "I     True    False    False     True"
      ]
     },
     "execution_count": 18,
     "metadata": {},
     "output_type": "execute_result"
    }
   ],
   "source": [
    "df.isna() #identificar os valores faltantes"
   ]
  },
  {
   "cell_type": "code",
   "execution_count": 21,
   "metadata": {
    "ExecuteTime": {
     "end_time": "2021-06-06T21:13:06.490476Z",
     "start_time": "2021-06-06T21:13:06.475491Z"
    }
   },
   "outputs": [
    {
     "data": {
      "text/html": [
       "<div>\n",
       "<style scoped>\n",
       "    .dataframe tbody tr th:only-of-type {\n",
       "        vertical-align: middle;\n",
       "    }\n",
       "\n",
       "    .dataframe tbody tr th {\n",
       "        vertical-align: top;\n",
       "    }\n",
       "\n",
       "    .dataframe thead th {\n",
       "        text-align: right;\n",
       "    }\n",
       "</style>\n",
       "<table border=\"1\" class=\"dataframe\">\n",
       "  <thead>\n",
       "    <tr style=\"text-align: right;\">\n",
       "      <th></th>\n",
       "      <th>coluna1</th>\n",
       "      <th>coluna2</th>\n",
       "      <th>coluna3</th>\n",
       "      <th>coluna4</th>\n",
       "    </tr>\n",
       "  </thead>\n",
       "  <tbody>\n",
       "    <tr>\n",
       "      <th>A</th>\n",
       "      <td>False</td>\n",
       "      <td>False</td>\n",
       "      <td>False</td>\n",
       "      <td>False</td>\n",
       "    </tr>\n",
       "    <tr>\n",
       "      <th>B</th>\n",
       "      <td>True</td>\n",
       "      <td>False</td>\n",
       "      <td>False</td>\n",
       "      <td>False</td>\n",
       "    </tr>\n",
       "    <tr>\n",
       "      <th>C</th>\n",
       "      <td>False</td>\n",
       "      <td>False</td>\n",
       "      <td>False</td>\n",
       "      <td>False</td>\n",
       "    </tr>\n",
       "    <tr>\n",
       "      <th>D</th>\n",
       "      <td>True</td>\n",
       "      <td>False</td>\n",
       "      <td>False</td>\n",
       "      <td>False</td>\n",
       "    </tr>\n",
       "    <tr>\n",
       "      <th>E</th>\n",
       "      <td>True</td>\n",
       "      <td>False</td>\n",
       "      <td>True</td>\n",
       "      <td>True</td>\n",
       "    </tr>\n",
       "    <tr>\n",
       "      <th>F</th>\n",
       "      <td>False</td>\n",
       "      <td>False</td>\n",
       "      <td>False</td>\n",
       "      <td>False</td>\n",
       "    </tr>\n",
       "    <tr>\n",
       "      <th>G</th>\n",
       "      <td>True</td>\n",
       "      <td>False</td>\n",
       "      <td>False</td>\n",
       "      <td>False</td>\n",
       "    </tr>\n",
       "    <tr>\n",
       "      <th>H</th>\n",
       "      <td>False</td>\n",
       "      <td>False</td>\n",
       "      <td>False</td>\n",
       "      <td>False</td>\n",
       "    </tr>\n",
       "    <tr>\n",
       "      <th>I</th>\n",
       "      <td>True</td>\n",
       "      <td>False</td>\n",
       "      <td>False</td>\n",
       "      <td>True</td>\n",
       "    </tr>\n",
       "  </tbody>\n",
       "</table>\n",
       "</div>"
      ],
      "text/plain": [
       "   coluna1  coluna2  coluna3  coluna4\n",
       "A    False    False    False    False\n",
       "B     True    False    False    False\n",
       "C    False    False    False    False\n",
       "D     True    False    False    False\n",
       "E     True    False     True     True\n",
       "F    False    False    False    False\n",
       "G     True    False    False    False\n",
       "H    False    False    False    False\n",
       "I     True    False    False     True"
      ]
     },
     "execution_count": 21,
     "metadata": {},
     "output_type": "execute_result"
    }
   ],
   "source": [
    "# Alias do isna\n",
    "df.isnull()"
   ]
  },
  {
   "cell_type": "code",
   "execution_count": 23,
   "metadata": {
    "ExecuteTime": {
     "end_time": "2021-05-29T10:33:31.745593Z",
     "start_time": "2021-05-29T10:33:31.736599Z"
    }
   },
   "outputs": [
    {
     "data": {
      "text/plain": [
       "A    False\n",
       "B     True\n",
       "C    False\n",
       "D     True\n",
       "E     True\n",
       "F    False\n",
       "G     True\n",
       "H    False\n",
       "I     True\n",
       "Name: coluna1, dtype: bool"
      ]
     },
     "execution_count": 23,
     "metadata": {},
     "output_type": "execute_result"
    }
   ],
   "source": [
    "df['coluna1'].isna()"
   ]
  },
  {
   "cell_type": "code",
   "execution_count": 24,
   "metadata": {
    "ExecuteTime": {
     "end_time": "2021-05-29T10:33:38.890443Z",
     "start_time": "2021-05-29T10:33:38.880435Z"
    }
   },
   "outputs": [
    {
     "data": {
      "text/html": [
       "<div>\n",
       "<style scoped>\n",
       "    .dataframe tbody tr th:only-of-type {\n",
       "        vertical-align: middle;\n",
       "    }\n",
       "\n",
       "    .dataframe tbody tr th {\n",
       "        vertical-align: top;\n",
       "    }\n",
       "\n",
       "    .dataframe thead th {\n",
       "        text-align: right;\n",
       "    }\n",
       "</style>\n",
       "<table border=\"1\" class=\"dataframe\">\n",
       "  <thead>\n",
       "    <tr style=\"text-align: right;\">\n",
       "      <th></th>\n",
       "      <th>coluna1</th>\n",
       "      <th>coluna2</th>\n",
       "      <th>coluna3</th>\n",
       "      <th>coluna4</th>\n",
       "    </tr>\n",
       "  </thead>\n",
       "  <tbody>\n",
       "    <tr>\n",
       "      <th>B</th>\n",
       "      <td>NaN</td>\n",
       "      <td>74.386571</td>\n",
       "      <td>134.93273259013816</td>\n",
       "      <td>-112.326773</td>\n",
       "    </tr>\n",
       "    <tr>\n",
       "      <th>D</th>\n",
       "      <td>NaN</td>\n",
       "      <td>-78.735212</td>\n",
       "      <td>-163.09518773037985</td>\n",
       "      <td>-15.152938</td>\n",
       "    </tr>\n",
       "    <tr>\n",
       "      <th>E</th>\n",
       "      <td>NaN</td>\n",
       "      <td>-155.624172</td>\n",
       "      <td>NaN</td>\n",
       "      <td>NaN</td>\n",
       "    </tr>\n",
       "    <tr>\n",
       "      <th>G</th>\n",
       "      <td>NaN</td>\n",
       "      <td>-29.316424</td>\n",
       "      <td>44.44336864950651</td>\n",
       "      <td>-2.689055</td>\n",
       "    </tr>\n",
       "    <tr>\n",
       "      <th>I</th>\n",
       "      <td>NaN</td>\n",
       "      <td>-67.655609</td>\n",
       "      <td>98.80649587885446</td>\n",
       "      <td>NaN</td>\n",
       "    </tr>\n",
       "  </tbody>\n",
       "</table>\n",
       "</div>"
      ],
      "text/plain": [
       "   coluna1     coluna2              coluna3     coluna4\n",
       "B      NaN   74.386571   134.93273259013816 -112.326773\n",
       "D      NaN  -78.735212  -163.09518773037985  -15.152938\n",
       "E      NaN -155.624172                  NaN         NaN\n",
       "G      NaN  -29.316424    44.44336864950651   -2.689055\n",
       "I      NaN  -67.655609    98.80649587885446         NaN"
      ]
     },
     "execution_count": 24,
     "metadata": {},
     "output_type": "execute_result"
    }
   ],
   "source": [
    "df[df['coluna1'].isna()]#dessa forma ele tras as linhas que tem os dados faltantes na coluna 1"
   ]
  },
  {
   "cell_type": "code",
   "execution_count": 25,
   "metadata": {
    "ExecuteTime": {
     "end_time": "2021-05-29T10:33:49.406523Z",
     "start_time": "2021-05-29T10:33:49.398526Z"
    }
   },
   "outputs": [
    {
     "data": {
      "text/html": [
       "<div>\n",
       "<style scoped>\n",
       "    .dataframe tbody tr th:only-of-type {\n",
       "        vertical-align: middle;\n",
       "    }\n",
       "\n",
       "    .dataframe tbody tr th {\n",
       "        vertical-align: top;\n",
       "    }\n",
       "\n",
       "    .dataframe thead th {\n",
       "        text-align: right;\n",
       "    }\n",
       "</style>\n",
       "<table border=\"1\" class=\"dataframe\">\n",
       "  <thead>\n",
       "    <tr style=\"text-align: right;\">\n",
       "      <th></th>\n",
       "      <th>coluna1</th>\n",
       "      <th>coluna2</th>\n",
       "      <th>coluna3</th>\n",
       "      <th>coluna4</th>\n",
       "    </tr>\n",
       "  </thead>\n",
       "  <tbody>\n",
       "    <tr>\n",
       "      <th>A</th>\n",
       "      <td>-17.389487</td>\n",
       "      <td>59.518328</td>\n",
       "      <td>47.59151409371285</td>\n",
       "      <td>-133.986451</td>\n",
       "    </tr>\n",
       "    <tr>\n",
       "      <th>C</th>\n",
       "      <td>187.995904</td>\n",
       "      <td>-48.164639</td>\n",
       "      <td>-33.95751108540437</td>\n",
       "      <td>-83.633157</td>\n",
       "    </tr>\n",
       "    <tr>\n",
       "      <th>F</th>\n",
       "      <td>-64.082259</td>\n",
       "      <td>-4.830413</td>\n",
       "      <td>84.89941165462288</td>\n",
       "      <td>4.709168</td>\n",
       "    </tr>\n",
       "    <tr>\n",
       "      <th>H</th>\n",
       "      <td>122.589064</td>\n",
       "      <td>60.061342</td>\n",
       "      <td>-154.44991970725266</td>\n",
       "      <td>37.652009</td>\n",
       "    </tr>\n",
       "  </tbody>\n",
       "</table>\n",
       "</div>"
      ],
      "text/plain": [
       "      coluna1    coluna2              coluna3     coluna4\n",
       "A  -17.389487  59.518328    47.59151409371285 -133.986451\n",
       "C  187.995904 -48.164639   -33.95751108540437  -83.633157\n",
       "F  -64.082259  -4.830413    84.89941165462288    4.709168\n",
       "H  122.589064  60.061342  -154.44991970725266   37.652009"
      ]
     },
     "execution_count": 25,
     "metadata": {},
     "output_type": "execute_result"
    }
   ],
   "source": [
    "df[~df['coluna1'].isna()]#com o ~ ele inverte e tras as linhas onde a coluna 1 nao tem nunhum dado faltante\n",
    "#dentro do dataframe df traga todas as linhas onde a coluna 1 nao tem dados faltantes"
   ]
  },
  {
   "cell_type": "code",
   "execution_count": 26,
   "metadata": {
    "ExecuteTime": {
     "end_time": "2021-05-29T10:35:24.547767Z",
     "start_time": "2021-05-29T10:35:24.535761Z"
    }
   },
   "outputs": [
    {
     "data": {
      "text/plain": [
       "A    -17.389487\n",
       "B           NaN\n",
       "C    187.995904\n",
       "D           NaN\n",
       "E           NaN\n",
       "F    -64.082259\n",
       "G           NaN\n",
       "H    122.589064\n",
       "I           NaN\n",
       "Name: coluna1, dtype: float64"
      ]
     },
     "execution_count": 26,
     "metadata": {},
     "output_type": "execute_result"
    }
   ],
   "source": [
    "df['coluna1']"
   ]
  },
  {
   "cell_type": "code",
   "execution_count": 27,
   "metadata": {
    "ExecuteTime": {
     "end_time": "2021-05-29T10:35:44.961583Z",
     "start_time": "2021-05-29T10:35:44.951574Z"
    }
   },
   "outputs": [
    {
     "data": {
      "text/plain": [
       "A    False\n",
       "B     True\n",
       "C    False\n",
       "D     True\n",
       "E     True\n",
       "F    False\n",
       "G     True\n",
       "H    False\n",
       "I     True\n",
       "Name: coluna1, dtype: bool"
      ]
     },
     "execution_count": 27,
     "metadata": {},
     "output_type": "execute_result"
    }
   ],
   "source": [
    "df['coluna1'].isna()"
   ]
  },
  {
   "cell_type": "code",
   "execution_count": 28,
   "metadata": {
    "ExecuteTime": {
     "end_time": "2021-05-29T10:35:18.466672Z",
     "start_time": "2021-05-29T10:35:18.455674Z"
    }
   },
   "outputs": [
    {
     "data": {
      "text/plain": [
       "5"
      ]
     },
     "execution_count": 28,
     "metadata": {},
     "output_type": "execute_result"
    }
   ],
   "source": [
    "df['coluna1'].isna().sum()"
   ]
  },
  {
   "cell_type": "code",
   "execution_count": 29,
   "metadata": {
    "ExecuteTime": {
     "end_time": "2021-05-29T13:38:36.366884Z",
     "start_time": "2021-05-29T13:38:36.345898Z"
    }
   },
   "outputs": [
    {
     "data": {
      "text/plain": [
       "coluna1    5\n",
       "coluna2    0\n",
       "coluna3    1\n",
       "coluna4    2\n",
       "dtype: int64"
      ]
     },
     "execution_count": 29,
     "metadata": {},
     "output_type": "execute_result"
    }
   ],
   "source": [
    "df.isna().sum()"
   ]
  },
  {
   "cell_type": "code",
   "execution_count": 30,
   "metadata": {
    "ExecuteTime": {
     "end_time": "2021-05-29T10:36:46.574041Z",
     "start_time": "2021-05-29T10:36:46.567015Z"
    }
   },
   "outputs": [
    {
     "data": {
      "text/plain": [
       "A     59.518328\n",
       "B     74.386571\n",
       "C    -48.164639\n",
       "D    -78.735212\n",
       "E   -155.624172\n",
       "F     -4.830413\n",
       "G    -29.316424\n",
       "H     60.061342\n",
       "I    -67.655609\n",
       "Name: coluna2, dtype: float64"
      ]
     },
     "execution_count": 30,
     "metadata": {},
     "output_type": "execute_result"
    }
   ],
   "source": [
    "df['coluna2']"
   ]
  },
  {
   "cell_type": "code",
   "execution_count": 31,
   "metadata": {
    "ExecuteTime": {
     "end_time": "2021-05-29T10:36:42.849653Z",
     "start_time": "2021-05-29T10:36:42.839658Z"
    }
   },
   "outputs": [
    {
     "data": {
      "text/plain": [
       "0"
      ]
     },
     "execution_count": 31,
     "metadata": {},
     "output_type": "execute_result"
    }
   ],
   "source": [
    "df['coluna2'].isna().sum()"
   ]
  },
  {
   "cell_type": "code",
   "execution_count": 32,
   "metadata": {
    "ExecuteTime": {
     "end_time": "2021-05-29T14:12:47.717668Z",
     "start_time": "2021-05-29T14:12:47.710684Z"
    }
   },
   "outputs": [
    {
     "data": {
      "text/plain": [
       "coluna1    55.555556\n",
       "coluna2     0.000000\n",
       "coluna3    11.111111\n",
       "coluna4    22.222222\n",
       "dtype: float64"
      ]
     },
     "execution_count": 32,
     "metadata": {},
     "output_type": "execute_result"
    }
   ],
   "source": [
    "percentage = (df.isnull().sum() / len(df)) * 100 #aqui ele tras o percentual por coluna de isna(dados faltantes)\n",
    "#o len(df) percorre toda a tabela, caso nos não saibamos do numero de linhas existentes, por exemplo.\n",
    "percentage"
   ]
  },
  {
   "cell_type": "markdown",
   "metadata": {},
   "source": [
    "# 4. Tratando dados ausentes <a name=\"tratando\"></a>\n",
    "<div style=\"text-align: right\"\n",
    "     \n",
    "[Voltar ao índice](#Contents)"
   ]
  },
  {
   "cell_type": "code",
   "execution_count": 33,
   "metadata": {
    "ExecuteTime": {
     "end_time": "2021-05-29T10:41:56.025867Z",
     "start_time": "2021-05-29T10:41:56.013875Z"
    }
   },
   "outputs": [
    {
     "data": {
      "text/plain": [
       "A    -17.389487\n",
       "B           NaN\n",
       "C    187.995904\n",
       "D           NaN\n",
       "E           NaN\n",
       "F    -64.082259\n",
       "G           NaN\n",
       "H    122.589064\n",
       "I           NaN\n",
       "Name: coluna1, dtype: float64"
      ]
     },
     "execution_count": 33,
     "metadata": {},
     "output_type": "execute_result"
    }
   ],
   "source": [
    "df['coluna1']"
   ]
  },
  {
   "cell_type": "markdown",
   "metadata": {},
   "source": [
    "## Substituindo por 0"
   ]
  },
  {
   "cell_type": "code",
   "execution_count": 35,
   "metadata": {
    "ExecuteTime": {
     "end_time": "2021-05-29T13:12:06.190474Z",
     "start_time": "2021-05-29T13:12:06.172486Z"
    },
    "scrolled": true
   },
   "outputs": [
    {
     "data": {
      "text/plain": [
       "A    -17.389487\n",
       "B      0.000000\n",
       "C    187.995904\n",
       "D      0.000000\n",
       "E      0.000000\n",
       "F    -64.082259\n",
       "G      0.000000\n",
       "H    122.589064\n",
       "I      0.000000\n",
       "Name: coluna1, dtype: float64"
      ]
     },
     "execution_count": 35,
     "metadata": {},
     "output_type": "execute_result"
    }
   ],
   "source": [
    "df['coluna1'].fillna(0) # o fillna(diz preencha todos dos dados faltantes com 0)\n",
    "#Retorna uma cópia dos dados faltantes substituindo-os por 0. Essa substituição é temporaria.\n",
    "#Para essa substituição ser gravada temos que passar -fillna(0, inplace=True).Assim vai alterar os valores para zero."
   ]
  },
  {
   "cell_type": "markdown",
   "metadata": {},
   "source": [
    "## Substituindo pela média"
   ]
  },
  {
   "cell_type": "code",
   "execution_count": 36,
   "metadata": {},
   "outputs": [
    {
     "data": {
      "text/plain": [
       "A    -17.389487\n",
       "B           NaN\n",
       "C    187.995904\n",
       "D           NaN\n",
       "E           NaN\n",
       "F    -64.082259\n",
       "G           NaN\n",
       "H    122.589064\n",
       "I           NaN\n",
       "Name: coluna1, dtype: float64"
      ]
     },
     "execution_count": 36,
     "metadata": {},
     "output_type": "execute_result"
    }
   ],
   "source": [
    "df['coluna1']"
   ]
  },
  {
   "cell_type": "code",
   "execution_count": 37,
   "metadata": {
    "ExecuteTime": {
     "end_time": "2021-05-29T13:14:24.140037Z",
     "start_time": "2021-05-29T13:14:24.127037Z"
    }
   },
   "outputs": [
    {
     "data": {
      "text/plain": [
       "-15.25"
      ]
     },
     "execution_count": 37,
     "metadata": {},
     "output_type": "execute_result"
    }
   ],
   "source": [
    "(-23.0-132.0+94.0+0)/4"
   ]
  },
  {
   "cell_type": "code",
   "execution_count": 40,
   "metadata": {
    "ExecuteTime": {
     "end_time": "2021-05-29T13:14:25.215007Z",
     "start_time": "2021-05-29T13:14:25.210009Z"
    }
   },
   "outputs": [
    {
     "data": {
      "text/plain": [
       "57.27830546005356"
      ]
     },
     "execution_count": 40,
     "metadata": {},
     "output_type": "execute_result"
    }
   ],
   "source": [
    "df['coluna1'].mean() # o metodo mean() ja calcula a média"
   ]
  },
  {
   "cell_type": "code",
   "execution_count": 43,
   "metadata": {
    "ExecuteTime": {
     "end_time": "2021-05-29T13:19:57.945165Z",
     "start_time": "2021-05-29T13:19:57.932160Z"
    }
   },
   "outputs": [],
   "source": [
    "med_col1 = df['coluna1'].mean() #aqui ele criou uma variavel chamada med_coll que podera ser usada outras vezes"
   ]
  },
  {
   "cell_type": "code",
   "execution_count": 44,
   "metadata": {
    "ExecuteTime": {
     "end_time": "2021-05-29T13:20:00.068882Z",
     "start_time": "2021-05-29T13:20:00.058887Z"
    }
   },
   "outputs": [
    {
     "data": {
      "text/plain": [
       "A    -17.389487\n",
       "B     57.278305\n",
       "C    187.995904\n",
       "D     57.278305\n",
       "E     57.278305\n",
       "F    -64.082259\n",
       "G     57.278305\n",
       "H    122.589064\n",
       "I     57.278305\n",
       "Name: coluna1, dtype: float64"
      ]
     },
     "execution_count": 44,
     "metadata": {},
     "output_type": "execute_result"
    }
   ],
   "source": [
    "df['coluna1'].fillna(med_col1)"
   ]
  },
  {
   "cell_type": "markdown",
   "metadata": {},
   "source": [
    "## Substituindo pela mediana"
   ]
  },
  {
   "cell_type": "code",
   "execution_count": 45,
   "metadata": {
    "ExecuteTime": {
     "end_time": "2021-06-06T21:14:45.257459Z",
     "start_time": "2021-06-06T21:14:45.243466Z"
    }
   },
   "outputs": [
    {
     "data": {
      "text/plain": [
       "A    -17.389487\n",
       "B           NaN\n",
       "C    187.995904\n",
       "D           NaN\n",
       "E           NaN\n",
       "F    -64.082259\n",
       "G           NaN\n",
       "H    122.589064\n",
       "I           NaN\n",
       "Name: coluna1, dtype: float64"
      ]
     },
     "execution_count": 45,
     "metadata": {},
     "output_type": "execute_result"
    }
   ],
   "source": [
    "df['coluna1']"
   ]
  },
  {
   "cell_type": "code",
   "execution_count": 46,
   "metadata": {
    "ExecuteTime": {
     "end_time": "2021-06-06T21:14:56.142307Z",
     "start_time": "2021-06-06T21:14:56.121324Z"
    }
   },
   "outputs": [
    {
     "data": {
      "text/plain": [
       "F    -64.082259\n",
       "A    -17.389487\n",
       "H    122.589064\n",
       "C    187.995904\n",
       "B           NaN\n",
       "D           NaN\n",
       "E           NaN\n",
       "G           NaN\n",
       "I           NaN\n",
       "Name: coluna1, dtype: float64"
      ]
     },
     "execution_count": 46,
     "metadata": {},
     "output_type": "execute_result"
    }
   ],
   "source": [
    "df['coluna1'].sort_values()#o sort_values ordena as linhas na coluna 1 do menor para o maior"
   ]
  },
  {
   "cell_type": "code",
   "execution_count": 47,
   "metadata": {
    "ExecuteTime": {
     "end_time": "2021-06-06T21:15:32.069094Z",
     "start_time": "2021-06-06T21:15:32.056102Z"
    }
   },
   "outputs": [
    {
     "data": {
      "text/plain": [
       "-55.0"
      ]
     },
     "execution_count": 47,
     "metadata": {},
     "output_type": "execute_result"
    }
   ],
   "source": [
    "(-77-33)/2"
   ]
  },
  {
   "cell_type": "code",
   "execution_count": 54,
   "metadata": {
    "ExecuteTime": {
     "end_time": "2021-06-06T21:15:07.810981Z",
     "start_time": "2021-06-06T21:15:07.801973Z"
    }
   },
   "outputs": [
    {
     "data": {
      "text/plain": [
       "52.59978862402822"
      ]
     },
     "execution_count": 54,
     "metadata": {},
     "output_type": "execute_result"
    }
   ],
   "source": [
    "df['coluna1'].median()"
   ]
  },
  {
   "cell_type": "code",
   "execution_count": 55,
   "metadata": {
    "ExecuteTime": {
     "end_time": "2021-06-06T21:15:51.332736Z",
     "start_time": "2021-06-06T21:15:51.324736Z"
    }
   },
   "outputs": [],
   "source": [
    "mediana_col1 = df['coluna1'].median()"
   ]
  },
  {
   "cell_type": "code",
   "execution_count": 56,
   "metadata": {
    "ExecuteTime": {
     "end_time": "2021-06-06T21:15:51.490564Z",
     "start_time": "2021-06-06T21:15:51.483570Z"
    }
   },
   "outputs": [
    {
     "data": {
      "text/plain": [
       "A    -17.389487\n",
       "B     52.599789\n",
       "C    187.995904\n",
       "D     52.599789\n",
       "E     52.599789\n",
       "F    -64.082259\n",
       "G     52.599789\n",
       "H    122.589064\n",
       "I     52.599789\n",
       "Name: coluna1, dtype: float64"
      ]
     },
     "execution_count": 56,
     "metadata": {},
     "output_type": "execute_result"
    }
   ],
   "source": [
    "df['coluna1'].fillna(mediana_col1)"
   ]
  },
  {
   "cell_type": "code",
   "execution_count": 57,
   "metadata": {},
   "outputs": [],
   "source": [
    "#Substituindo usando o ffill e o bfill"
   ]
  },
  {
   "cell_type": "code",
   "execution_count": 58,
   "metadata": {
    "ExecuteTime": {
     "end_time": "2021-05-29T13:20:11.766007Z",
     "start_time": "2021-05-29T13:20:11.745019Z"
    }
   },
   "outputs": [
    {
     "data": {
      "text/plain": [
       "A    -17.389487\n",
       "B    -17.389487\n",
       "C    187.995904\n",
       "D    187.995904\n",
       "E    187.995904\n",
       "F    -64.082259\n",
       "G    -64.082259\n",
       "H    122.589064\n",
       "I    122.589064\n",
       "Name: coluna1, dtype: float64"
      ]
     },
     "execution_count": 58,
     "metadata": {},
     "output_type": "execute_result"
    }
   ],
   "source": [
    "df['coluna1'].fillna(method='ffill')"
   ]
  },
  {
   "cell_type": "code",
   "execution_count": 59,
   "metadata": {
    "ExecuteTime": {
     "end_time": "2021-05-29T13:21:02.649710Z",
     "start_time": "2021-05-29T13:21:02.633720Z"
    }
   },
   "outputs": [
    {
     "data": {
      "text/plain": [
       "A    -17.389487\n",
       "C    187.995904\n",
       "F    -64.082259\n",
       "H    122.589064\n",
       "Name: coluna1, dtype: float64"
      ]
     },
     "execution_count": 59,
     "metadata": {},
     "output_type": "execute_result"
    }
   ],
   "source": [
    "df['coluna1'].dropna()#deltar as linhas faltantes(isna)"
   ]
  },
  {
   "cell_type": "code",
   "execution_count": 60,
   "metadata": {
    "ExecuteTime": {
     "end_time": "2021-05-29T13:24:21.334336Z",
     "start_time": "2021-05-29T13:24:21.322344Z"
    }
   },
   "outputs": [
    {
     "data": {
      "text/html": [
       "<div>\n",
       "<style scoped>\n",
       "    .dataframe tbody tr th:only-of-type {\n",
       "        vertical-align: middle;\n",
       "    }\n",
       "\n",
       "    .dataframe tbody tr th {\n",
       "        vertical-align: top;\n",
       "    }\n",
       "\n",
       "    .dataframe thead th {\n",
       "        text-align: right;\n",
       "    }\n",
       "</style>\n",
       "<table border=\"1\" class=\"dataframe\">\n",
       "  <thead>\n",
       "    <tr style=\"text-align: right;\">\n",
       "      <th></th>\n",
       "      <th>coluna1</th>\n",
       "      <th>coluna2</th>\n",
       "      <th>coluna3</th>\n",
       "      <th>coluna4</th>\n",
       "    </tr>\n",
       "  </thead>\n",
       "  <tbody>\n",
       "    <tr>\n",
       "      <th>A</th>\n",
       "      <td>-17.389487</td>\n",
       "      <td>59.518328</td>\n",
       "      <td>47.59151409371285</td>\n",
       "      <td>-133.986451</td>\n",
       "    </tr>\n",
       "    <tr>\n",
       "      <th>C</th>\n",
       "      <td>187.995904</td>\n",
       "      <td>-48.164639</td>\n",
       "      <td>-33.95751108540437</td>\n",
       "      <td>-83.633157</td>\n",
       "    </tr>\n",
       "    <tr>\n",
       "      <th>F</th>\n",
       "      <td>-64.082259</td>\n",
       "      <td>-4.830413</td>\n",
       "      <td>84.89941165462288</td>\n",
       "      <td>4.709168</td>\n",
       "    </tr>\n",
       "    <tr>\n",
       "      <th>H</th>\n",
       "      <td>122.589064</td>\n",
       "      <td>60.061342</td>\n",
       "      <td>-154.44991970725266</td>\n",
       "      <td>37.652009</td>\n",
       "    </tr>\n",
       "  </tbody>\n",
       "</table>\n",
       "</div>"
      ],
      "text/plain": [
       "      coluna1    coluna2              coluna3     coluna4\n",
       "A  -17.389487  59.518328    47.59151409371285 -133.986451\n",
       "C  187.995904 -48.164639   -33.95751108540437  -83.633157\n",
       "F  -64.082259  -4.830413    84.89941165462288    4.709168\n",
       "H  122.589064  60.061342  -154.44991970725266   37.652009"
      ]
     },
     "execution_count": 60,
     "metadata": {},
     "output_type": "execute_result"
    }
   ],
   "source": [
    "# dropar todas as linhas que tenha pelo menos 1 NA\n",
    "df.dropna()"
   ]
  },
  {
   "cell_type": "markdown",
   "metadata": {},
   "source": [
    "# 5. Dados duplicados <a name=\"duplicados\"></a>\n",
    "<div style=\"text-align: right\"\n",
    "     \n",
    "[Voltar ao índice](#Contents)"
   ]
  },
  {
   "cell_type": "code",
   "execution_count": 61,
   "metadata": {
    "ExecuteTime": {
     "end_time": "2021-05-29T13:27:46.263931Z",
     "start_time": "2021-05-29T13:27:46.244941Z"
    }
   },
   "outputs": [
    {
     "data": {
      "text/html": [
       "<div>\n",
       "<style scoped>\n",
       "    .dataframe tbody tr th:only-of-type {\n",
       "        vertical-align: middle;\n",
       "    }\n",
       "\n",
       "    .dataframe tbody tr th {\n",
       "        vertical-align: top;\n",
       "    }\n",
       "\n",
       "    .dataframe thead th {\n",
       "        text-align: right;\n",
       "    }\n",
       "</style>\n",
       "<table border=\"1\" class=\"dataframe\">\n",
       "  <thead>\n",
       "    <tr style=\"text-align: right;\">\n",
       "      <th></th>\n",
       "      <th>coluna1</th>\n",
       "      <th>coluna2</th>\n",
       "      <th>coluna3</th>\n",
       "      <th>coluna4</th>\n",
       "    </tr>\n",
       "  </thead>\n",
       "  <tbody>\n",
       "    <tr>\n",
       "      <th>A</th>\n",
       "      <td>-17.389487</td>\n",
       "      <td>59.518328</td>\n",
       "      <td>47.59151409371285</td>\n",
       "      <td>-133.986451</td>\n",
       "    </tr>\n",
       "    <tr>\n",
       "      <th>B</th>\n",
       "      <td>NaN</td>\n",
       "      <td>74.386571</td>\n",
       "      <td>134.93273259013816</td>\n",
       "      <td>-112.326773</td>\n",
       "    </tr>\n",
       "    <tr>\n",
       "      <th>C</th>\n",
       "      <td>187.995904</td>\n",
       "      <td>-48.164639</td>\n",
       "      <td>-33.95751108540437</td>\n",
       "      <td>-83.633157</td>\n",
       "    </tr>\n",
       "    <tr>\n",
       "      <th>D</th>\n",
       "      <td>NaN</td>\n",
       "      <td>-78.735212</td>\n",
       "      <td>-163.09518773037985</td>\n",
       "      <td>-15.152938</td>\n",
       "    </tr>\n",
       "    <tr>\n",
       "      <th>D</th>\n",
       "      <td>NaN</td>\n",
       "      <td>-78.735212</td>\n",
       "      <td>-163.09518773037985</td>\n",
       "      <td>-15.152938</td>\n",
       "    </tr>\n",
       "    <tr>\n",
       "      <th>E</th>\n",
       "      <td>NaN</td>\n",
       "      <td>-155.624172</td>\n",
       "      <td>NaN</td>\n",
       "      <td>NaN</td>\n",
       "    </tr>\n",
       "    <tr>\n",
       "      <th>E</th>\n",
       "      <td>NaN</td>\n",
       "      <td>-155.624172</td>\n",
       "      <td>NaN</td>\n",
       "      <td>NaN</td>\n",
       "    </tr>\n",
       "    <tr>\n",
       "      <th>F</th>\n",
       "      <td>-64.082259</td>\n",
       "      <td>-4.830413</td>\n",
       "      <td>84.89941165462288</td>\n",
       "      <td>4.709168</td>\n",
       "    </tr>\n",
       "    <tr>\n",
       "      <th>F</th>\n",
       "      <td>-64.082259</td>\n",
       "      <td>-4.830413</td>\n",
       "      <td>84.89941165462288</td>\n",
       "      <td>4.709168</td>\n",
       "    </tr>\n",
       "    <tr>\n",
       "      <th>G</th>\n",
       "      <td>NaN</td>\n",
       "      <td>-29.316424</td>\n",
       "      <td>44.44336864950651</td>\n",
       "      <td>-2.689055</td>\n",
       "    </tr>\n",
       "    <tr>\n",
       "      <th>G</th>\n",
       "      <td>NaN</td>\n",
       "      <td>-29.316424</td>\n",
       "      <td>44.44336864950651</td>\n",
       "      <td>-2.689055</td>\n",
       "    </tr>\n",
       "    <tr>\n",
       "      <th>H</th>\n",
       "      <td>122.589064</td>\n",
       "      <td>60.061342</td>\n",
       "      <td>-154.44991970725266</td>\n",
       "      <td>37.652009</td>\n",
       "    </tr>\n",
       "    <tr>\n",
       "      <th>H</th>\n",
       "      <td>122.589064</td>\n",
       "      <td>60.061342</td>\n",
       "      <td>-154.44991970725266</td>\n",
       "      <td>37.652009</td>\n",
       "    </tr>\n",
       "    <tr>\n",
       "      <th>I</th>\n",
       "      <td>NaN</td>\n",
       "      <td>-67.655609</td>\n",
       "      <td>98.80649587885446</td>\n",
       "      <td>NaN</td>\n",
       "    </tr>\n",
       "  </tbody>\n",
       "</table>\n",
       "</div>"
      ],
      "text/plain": [
       "      coluna1     coluna2              coluna3     coluna4\n",
       "A  -17.389487   59.518328    47.59151409371285 -133.986451\n",
       "B         NaN   74.386571   134.93273259013816 -112.326773\n",
       "C  187.995904  -48.164639   -33.95751108540437  -83.633157\n",
       "D         NaN  -78.735212  -163.09518773037985  -15.152938\n",
       "D         NaN  -78.735212  -163.09518773037985  -15.152938\n",
       "E         NaN -155.624172                  NaN         NaN\n",
       "E         NaN -155.624172                  NaN         NaN\n",
       "F  -64.082259   -4.830413    84.89941165462288    4.709168\n",
       "F  -64.082259   -4.830413    84.89941165462288    4.709168\n",
       "G         NaN  -29.316424    44.44336864950651   -2.689055\n",
       "G         NaN  -29.316424    44.44336864950651   -2.689055\n",
       "H  122.589064   60.061342  -154.44991970725266   37.652009\n",
       "H  122.589064   60.061342  -154.44991970725266   37.652009\n",
       "I         NaN  -67.655609    98.80649587885446         NaN"
      ]
     },
     "execution_count": 61,
     "metadata": {},
     "output_type": "execute_result"
    }
   ],
   "source": [
    "df_dup = df.append(df.loc['D':'H',:]).sort_index()\n",
    "df_dup"
   ]
  },
  {
   "cell_type": "code",
   "execution_count": 62,
   "metadata": {
    "ExecuteTime": {
     "end_time": "2021-05-29T13:30:40.658624Z",
     "start_time": "2021-05-29T13:30:40.642623Z"
    }
   },
   "outputs": [
    {
     "data": {
      "text/html": [
       "<div>\n",
       "<style scoped>\n",
       "    .dataframe tbody tr th:only-of-type {\n",
       "        vertical-align: middle;\n",
       "    }\n",
       "\n",
       "    .dataframe tbody tr th {\n",
       "        vertical-align: top;\n",
       "    }\n",
       "\n",
       "    .dataframe thead th {\n",
       "        text-align: right;\n",
       "    }\n",
       "</style>\n",
       "<table border=\"1\" class=\"dataframe\">\n",
       "  <thead>\n",
       "    <tr style=\"text-align: right;\">\n",
       "      <th></th>\n",
       "      <th>coluna1</th>\n",
       "      <th>coluna2</th>\n",
       "      <th>coluna3</th>\n",
       "      <th>coluna4</th>\n",
       "    </tr>\n",
       "  </thead>\n",
       "  <tbody>\n",
       "    <tr>\n",
       "      <th>A</th>\n",
       "      <td>-17.389487</td>\n",
       "      <td>59.518328</td>\n",
       "      <td>47.59151409371285</td>\n",
       "      <td>-133.986451</td>\n",
       "    </tr>\n",
       "    <tr>\n",
       "      <th>B</th>\n",
       "      <td>NaN</td>\n",
       "      <td>74.386571</td>\n",
       "      <td>134.93273259013816</td>\n",
       "      <td>-112.326773</td>\n",
       "    </tr>\n",
       "    <tr>\n",
       "      <th>C</th>\n",
       "      <td>187.995904</td>\n",
       "      <td>-48.164639</td>\n",
       "      <td>-33.95751108540437</td>\n",
       "      <td>-83.633157</td>\n",
       "    </tr>\n",
       "    <tr>\n",
       "      <th>D</th>\n",
       "      <td>NaN</td>\n",
       "      <td>-78.735212</td>\n",
       "      <td>-163.09518773037985</td>\n",
       "      <td>-15.152938</td>\n",
       "    </tr>\n",
       "    <tr>\n",
       "      <th>E</th>\n",
       "      <td>NaN</td>\n",
       "      <td>-155.624172</td>\n",
       "      <td>NaN</td>\n",
       "      <td>NaN</td>\n",
       "    </tr>\n",
       "    <tr>\n",
       "      <th>F</th>\n",
       "      <td>-64.082259</td>\n",
       "      <td>-4.830413</td>\n",
       "      <td>84.89941165462288</td>\n",
       "      <td>4.709168</td>\n",
       "    </tr>\n",
       "    <tr>\n",
       "      <th>G</th>\n",
       "      <td>NaN</td>\n",
       "      <td>-29.316424</td>\n",
       "      <td>44.44336864950651</td>\n",
       "      <td>-2.689055</td>\n",
       "    </tr>\n",
       "    <tr>\n",
       "      <th>H</th>\n",
       "      <td>122.589064</td>\n",
       "      <td>60.061342</td>\n",
       "      <td>-154.44991970725266</td>\n",
       "      <td>37.652009</td>\n",
       "    </tr>\n",
       "    <tr>\n",
       "      <th>I</th>\n",
       "      <td>NaN</td>\n",
       "      <td>-67.655609</td>\n",
       "      <td>98.80649587885446</td>\n",
       "      <td>NaN</td>\n",
       "    </tr>\n",
       "  </tbody>\n",
       "</table>\n",
       "</div>"
      ],
      "text/plain": [
       "      coluna1     coluna2              coluna3     coluna4\n",
       "A  -17.389487   59.518328    47.59151409371285 -133.986451\n",
       "B         NaN   74.386571   134.93273259013816 -112.326773\n",
       "C  187.995904  -48.164639   -33.95751108540437  -83.633157\n",
       "D         NaN  -78.735212  -163.09518773037985  -15.152938\n",
       "E         NaN -155.624172                  NaN         NaN\n",
       "F  -64.082259   -4.830413    84.89941165462288    4.709168\n",
       "G         NaN  -29.316424    44.44336864950651   -2.689055\n",
       "H  122.589064   60.061342  -154.44991970725266   37.652009\n",
       "I         NaN  -67.655609    98.80649587885446         NaN"
      ]
     },
     "execution_count": 62,
     "metadata": {},
     "output_type": "execute_result"
    }
   ],
   "source": [
    "df_dup.drop_duplicates()#aqui ele deletou (drop) todas as linhas duplicadas"
   ]
  },
  {
   "cell_type": "code",
   "execution_count": 63,
   "metadata": {
    "ExecuteTime": {
     "end_time": "2021-05-29T13:30:33.567549Z",
     "start_time": "2021-05-29T13:30:33.544582Z"
    }
   },
   "outputs": [
    {
     "data": {
      "text/html": [
       "<div>\n",
       "<style scoped>\n",
       "    .dataframe tbody tr th:only-of-type {\n",
       "        vertical-align: middle;\n",
       "    }\n",
       "\n",
       "    .dataframe tbody tr th {\n",
       "        vertical-align: top;\n",
       "    }\n",
       "\n",
       "    .dataframe thead th {\n",
       "        text-align: right;\n",
       "    }\n",
       "</style>\n",
       "<table border=\"1\" class=\"dataframe\">\n",
       "  <thead>\n",
       "    <tr style=\"text-align: right;\">\n",
       "      <th></th>\n",
       "      <th>coluna1</th>\n",
       "      <th>coluna2</th>\n",
       "      <th>coluna3</th>\n",
       "      <th>coluna4</th>\n",
       "    </tr>\n",
       "  </thead>\n",
       "  <tbody>\n",
       "    <tr>\n",
       "      <th>A</th>\n",
       "      <td>-17.389487</td>\n",
       "      <td>59.518328</td>\n",
       "      <td>47.59151409371285</td>\n",
       "      <td>-133.986451</td>\n",
       "    </tr>\n",
       "    <tr>\n",
       "      <th>B</th>\n",
       "      <td>NaN</td>\n",
       "      <td>74.386571</td>\n",
       "      <td>134.93273259013816</td>\n",
       "      <td>-112.326773</td>\n",
       "    </tr>\n",
       "    <tr>\n",
       "      <th>C</th>\n",
       "      <td>187.995904</td>\n",
       "      <td>-48.164639</td>\n",
       "      <td>-33.95751108540437</td>\n",
       "      <td>-83.633157</td>\n",
       "    </tr>\n",
       "    <tr>\n",
       "      <th>F</th>\n",
       "      <td>-64.082259</td>\n",
       "      <td>-4.830413</td>\n",
       "      <td>84.89941165462288</td>\n",
       "      <td>4.709168</td>\n",
       "    </tr>\n",
       "    <tr>\n",
       "      <th>H</th>\n",
       "      <td>122.589064</td>\n",
       "      <td>60.061342</td>\n",
       "      <td>-154.44991970725266</td>\n",
       "      <td>37.652009</td>\n",
       "    </tr>\n",
       "  </tbody>\n",
       "</table>\n",
       "</div>"
      ],
      "text/plain": [
       "      coluna1    coluna2              coluna3     coluna4\n",
       "A  -17.389487  59.518328    47.59151409371285 -133.986451\n",
       "B         NaN  74.386571   134.93273259013816 -112.326773\n",
       "C  187.995904 -48.164639   -33.95751108540437  -83.633157\n",
       "F  -64.082259  -4.830413    84.89941165462288    4.709168\n",
       "H  122.589064  60.061342  -154.44991970725266   37.652009"
      ]
     },
     "execution_count": 63,
     "metadata": {},
     "output_type": "execute_result"
    }
   ],
   "source": [
    "df_dup.drop_duplicates(subset=['coluna1'])# nesse caso ele olha todas as linhas da coluna 1 e retorna somente \n",
    "#uma linha com cada valor, eliminando as repetidas"
   ]
  },
  {
   "cell_type": "code",
   "execution_count": 64,
   "metadata": {
    "ExecuteTime": {
     "end_time": "2021-05-29T13:32:13.123617Z",
     "start_time": "2021-05-29T13:32:13.105619Z"
    }
   },
   "outputs": [
    {
     "data": {
      "text/plain": [
       "A    False\n",
       "B    False\n",
       "C    False\n",
       "D    False\n",
       "D     True\n",
       "E    False\n",
       "E     True\n",
       "F    False\n",
       "F     True\n",
       "G    False\n",
       "G     True\n",
       "H    False\n",
       "H     True\n",
       "I    False\n",
       "dtype: bool"
      ]
     },
     "execution_count": 64,
     "metadata": {},
     "output_type": "execute_result"
    }
   ],
   "source": [
    "df_dup.duplicated()"
   ]
  },
  {
   "cell_type": "code",
   "execution_count": 65,
   "metadata": {
    "ExecuteTime": {
     "end_time": "2021-05-29T13:31:30.812257Z",
     "start_time": "2021-05-29T13:31:30.799265Z"
    }
   },
   "outputs": [
    {
     "data": {
      "text/html": [
       "<div>\n",
       "<style scoped>\n",
       "    .dataframe tbody tr th:only-of-type {\n",
       "        vertical-align: middle;\n",
       "    }\n",
       "\n",
       "    .dataframe tbody tr th {\n",
       "        vertical-align: top;\n",
       "    }\n",
       "\n",
       "    .dataframe thead th {\n",
       "        text-align: right;\n",
       "    }\n",
       "</style>\n",
       "<table border=\"1\" class=\"dataframe\">\n",
       "  <thead>\n",
       "    <tr style=\"text-align: right;\">\n",
       "      <th></th>\n",
       "      <th>coluna1</th>\n",
       "      <th>coluna2</th>\n",
       "      <th>coluna3</th>\n",
       "      <th>coluna4</th>\n",
       "    </tr>\n",
       "  </thead>\n",
       "  <tbody>\n",
       "    <tr>\n",
       "      <th>D</th>\n",
       "      <td>NaN</td>\n",
       "      <td>-78.735212</td>\n",
       "      <td>-163.09518773037985</td>\n",
       "      <td>-15.152938</td>\n",
       "    </tr>\n",
       "    <tr>\n",
       "      <th>E</th>\n",
       "      <td>NaN</td>\n",
       "      <td>-155.624172</td>\n",
       "      <td>NaN</td>\n",
       "      <td>NaN</td>\n",
       "    </tr>\n",
       "    <tr>\n",
       "      <th>F</th>\n",
       "      <td>-64.082259</td>\n",
       "      <td>-4.830413</td>\n",
       "      <td>84.89941165462288</td>\n",
       "      <td>4.709168</td>\n",
       "    </tr>\n",
       "    <tr>\n",
       "      <th>G</th>\n",
       "      <td>NaN</td>\n",
       "      <td>-29.316424</td>\n",
       "      <td>44.44336864950651</td>\n",
       "      <td>-2.689055</td>\n",
       "    </tr>\n",
       "    <tr>\n",
       "      <th>H</th>\n",
       "      <td>122.589064</td>\n",
       "      <td>60.061342</td>\n",
       "      <td>-154.44991970725266</td>\n",
       "      <td>37.652009</td>\n",
       "    </tr>\n",
       "  </tbody>\n",
       "</table>\n",
       "</div>"
      ],
      "text/plain": [
       "      coluna1     coluna2              coluna3    coluna4\n",
       "D         NaN  -78.735212  -163.09518773037985 -15.152938\n",
       "E         NaN -155.624172                  NaN        NaN\n",
       "F  -64.082259   -4.830413    84.89941165462288   4.709168\n",
       "G         NaN  -29.316424    44.44336864950651  -2.689055\n",
       "H  122.589064   60.061342  -154.44991970725266  37.652009"
      ]
     },
     "execution_count": 65,
     "metadata": {},
     "output_type": "execute_result"
    }
   ],
   "source": [
    "df_dup[df_dup.duplicated()]"
   ]
  },
  {
   "cell_type": "markdown",
   "metadata": {},
   "source": [
    "# 6. Mapeamentos <a name=\"map\"></a>\n",
    "<div style=\"text-align: right\"\n",
    "     \n",
    "[Voltar ao índice](#Contents)"
   ]
  },
  {
   "cell_type": "code",
   "execution_count": 66,
   "metadata": {
    "ExecuteTime": {
     "end_time": "2021-05-29T13:42:45.956899Z",
     "start_time": "2021-05-29T13:42:45.942908Z"
    }
   },
   "outputs": [
    {
     "data": {
      "text/plain": [
       "0     1\n",
       "1     0\n",
       "2     1\n",
       "3     1\n",
       "4     1\n",
       "5     1\n",
       "6     0\n",
       "7     0\n",
       "8     0\n",
       "9     1\n",
       "10    1\n",
       "11    0\n",
       "dtype: int64"
      ]
     },
     "execution_count": 66,
     "metadata": {},
     "output_type": "execute_result"
    }
   ],
   "source": [
    "# 1 feminino, 0 masculino\n",
    "genero = pd.Series([1,0,1,1,1,1,0,0,0,1,1,0])\n",
    "genero"
   ]
  },
  {
   "cell_type": "code",
   "execution_count": 67,
   "metadata": {
    "ExecuteTime": {
     "end_time": "2021-05-29T14:05:13.576793Z",
     "start_time": "2021-05-29T14:05:13.554796Z"
    }
   },
   "outputs": [
    {
     "data": {
      "text/plain": [
       "0      Feminino\n",
       "1     Masculino\n",
       "2      Feminino\n",
       "3      Feminino\n",
       "4      Feminino\n",
       "5      Feminino\n",
       "6     Masculino\n",
       "7     Masculino\n",
       "8     Masculino\n",
       "9      Feminino\n",
       "10     Feminino\n",
       "11    Masculino\n",
       "dtype: object"
      ]
     },
     "execution_count": 67,
     "metadata": {},
     "output_type": "execute_result"
    }
   ],
   "source": [
    "genero.map({1:'Feminino', 0:'Masculino'})"
   ]
  },
  {
   "cell_type": "code",
   "execution_count": 152,
   "metadata": {
    "ExecuteTime": {
     "end_time": "2021-05-29T14:08:05.814253Z",
     "start_time": "2021-05-29T14:08:05.801261Z"
    }
   },
   "outputs": [],
   "source": [
    "genero_2 = genero.map({1:'Feminino', 0:'Masculino'})"
   ]
  },
  {
   "cell_type": "code",
   "execution_count": 147,
   "metadata": {
    "ExecuteTime": {
     "end_time": "2021-05-29T14:05:34.230006Z",
     "start_time": "2021-05-29T14:05:34.210016Z"
    }
   },
   "outputs": [
    {
     "data": {
      "text/plain": [
       "0     Feminino\n",
       "1          NaN\n",
       "2     Feminino\n",
       "3     Feminino\n",
       "4     Feminino\n",
       "5     Feminino\n",
       "6          NaN\n",
       "7          NaN\n",
       "8          NaN\n",
       "9     Feminino\n",
       "10    Feminino\n",
       "11         NaN\n",
       "dtype: object"
      ]
     },
     "execution_count": 147,
     "metadata": {},
     "output_type": "execute_result"
    }
   ],
   "source": [
    "genero.map({1:'Feminino', 2:'Masculino'})"
   ]
  },
  {
   "cell_type": "code",
   "execution_count": 153,
   "metadata": {
    "ExecuteTime": {
     "end_time": "2021-05-29T14:08:11.654002Z",
     "start_time": "2021-05-29T14:08:11.637012Z"
    }
   },
   "outputs": [
    {
     "data": {
      "text/plain": [
       "0      Genero: Feminino\n",
       "1     Genero: Masculino\n",
       "2      Genero: Feminino\n",
       "3      Genero: Feminino\n",
       "4      Genero: Feminino\n",
       "5      Genero: Feminino\n",
       "6     Genero: Masculino\n",
       "7     Genero: Masculino\n",
       "8     Genero: Masculino\n",
       "9      Genero: Feminino\n",
       "10     Genero: Feminino\n",
       "11    Genero: Masculino\n",
       "dtype: object"
      ]
     },
     "execution_count": 153,
     "metadata": {},
     "output_type": "execute_result"
    }
   ],
   "source": [
    "genero_2.map('Genero: {}'.format)"
   ]
  }
 ],
 "metadata": {
  "kernelspec": {
   "display_name": "Python 3 (ipykernel)",
   "language": "python",
   "name": "python3"
  },
  "language_info": {
   "codemirror_mode": {
    "name": "ipython",
    "version": 3
   },
   "file_extension": ".py",
   "mimetype": "text/x-python",
   "name": "python",
   "nbconvert_exporter": "python",
   "pygments_lexer": "ipython3",
   "version": "3.9.7"
  },
  "varInspector": {
   "cols": {
    "lenName": 16,
    "lenType": 16,
    "lenVar": 40
   },
   "kernels_config": {
    "python": {
     "delete_cmd_postfix": "",
     "delete_cmd_prefix": "del ",
     "library": "var_list.py",
     "varRefreshCmd": "print(var_dic_list())"
    },
    "r": {
     "delete_cmd_postfix": ") ",
     "delete_cmd_prefix": "rm(",
     "library": "var_list.r",
     "varRefreshCmd": "cat(var_dic_list()) "
    }
   },
   "types_to_exclude": [
    "module",
    "function",
    "builtin_function_or_method",
    "instance",
    "_Feature"
   ],
   "window_display": false
  }
 },
 "nbformat": 4,
 "nbformat_minor": 4
}
