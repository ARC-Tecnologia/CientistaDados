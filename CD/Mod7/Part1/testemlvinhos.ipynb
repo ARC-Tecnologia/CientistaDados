{
 "cells": [
  {
   "cell_type": "code",
   "execution_count": 3,
   "id": "750d8a74",
   "metadata": {},
   "outputs": [],
   "source": [
    "#Caregando o conunto de dados\n",
    "import pandas as pd\n",
    "arquivo = pd.read_csv('/home/aleubuntu/CientistaDados/CientistaDados/CD/DadosExternos/wine_dataset.csv')\n"
   ]
  },
  {
   "cell_type": "code",
   "execution_count": 4,
   "id": "f34e6df7",
   "metadata": {},
   "outputs": [
    {
     "data": {
      "text/html": [
       "<div>\n",
       "<style scoped>\n",
       "    .dataframe tbody tr th:only-of-type {\n",
       "        vertical-align: middle;\n",
       "    }\n",
       "\n",
       "    .dataframe tbody tr th {\n",
       "        vertical-align: top;\n",
       "    }\n",
       "\n",
       "    .dataframe thead th {\n",
       "        text-align: right;\n",
       "    }\n",
       "</style>\n",
       "<table border=\"1\" class=\"dataframe\">\n",
       "  <thead>\n",
       "    <tr style=\"text-align: right;\">\n",
       "      <th></th>\n",
       "      <th>fixed_acidity</th>\n",
       "      <th>volatile_acidity</th>\n",
       "      <th>citric_acid</th>\n",
       "      <th>residual_sugar</th>\n",
       "      <th>chlorides</th>\n",
       "      <th>free_sulfur_dioxide</th>\n",
       "      <th>total_sulfur_dioxide</th>\n",
       "      <th>density</th>\n",
       "      <th>pH</th>\n",
       "      <th>sulphates</th>\n",
       "      <th>alcohol</th>\n",
       "      <th>quality</th>\n",
       "      <th>style</th>\n",
       "    </tr>\n",
       "  </thead>\n",
       "  <tbody>\n",
       "    <tr>\n",
       "      <th>0</th>\n",
       "      <td>7.4</td>\n",
       "      <td>0.70</td>\n",
       "      <td>0.00</td>\n",
       "      <td>1.9</td>\n",
       "      <td>0.076</td>\n",
       "      <td>11.0</td>\n",
       "      <td>34.0</td>\n",
       "      <td>0.9978</td>\n",
       "      <td>3.51</td>\n",
       "      <td>0.56</td>\n",
       "      <td>9.4</td>\n",
       "      <td>5</td>\n",
       "      <td>red</td>\n",
       "    </tr>\n",
       "    <tr>\n",
       "      <th>1</th>\n",
       "      <td>7.8</td>\n",
       "      <td>0.88</td>\n",
       "      <td>0.00</td>\n",
       "      <td>2.6</td>\n",
       "      <td>0.098</td>\n",
       "      <td>25.0</td>\n",
       "      <td>67.0</td>\n",
       "      <td>0.9968</td>\n",
       "      <td>3.20</td>\n",
       "      <td>0.68</td>\n",
       "      <td>9.8</td>\n",
       "      <td>5</td>\n",
       "      <td>red</td>\n",
       "    </tr>\n",
       "    <tr>\n",
       "      <th>2</th>\n",
       "      <td>7.8</td>\n",
       "      <td>0.76</td>\n",
       "      <td>0.04</td>\n",
       "      <td>2.3</td>\n",
       "      <td>0.092</td>\n",
       "      <td>15.0</td>\n",
       "      <td>54.0</td>\n",
       "      <td>0.9970</td>\n",
       "      <td>3.26</td>\n",
       "      <td>0.65</td>\n",
       "      <td>9.8</td>\n",
       "      <td>5</td>\n",
       "      <td>red</td>\n",
       "    </tr>\n",
       "    <tr>\n",
       "      <th>3</th>\n",
       "      <td>11.2</td>\n",
       "      <td>0.28</td>\n",
       "      <td>0.56</td>\n",
       "      <td>1.9</td>\n",
       "      <td>0.075</td>\n",
       "      <td>17.0</td>\n",
       "      <td>60.0</td>\n",
       "      <td>0.9980</td>\n",
       "      <td>3.16</td>\n",
       "      <td>0.58</td>\n",
       "      <td>9.8</td>\n",
       "      <td>6</td>\n",
       "      <td>red</td>\n",
       "    </tr>\n",
       "    <tr>\n",
       "      <th>4</th>\n",
       "      <td>7.4</td>\n",
       "      <td>0.70</td>\n",
       "      <td>0.00</td>\n",
       "      <td>1.9</td>\n",
       "      <td>0.076</td>\n",
       "      <td>11.0</td>\n",
       "      <td>34.0</td>\n",
       "      <td>0.9978</td>\n",
       "      <td>3.51</td>\n",
       "      <td>0.56</td>\n",
       "      <td>9.4</td>\n",
       "      <td>5</td>\n",
       "      <td>red</td>\n",
       "    </tr>\n",
       "  </tbody>\n",
       "</table>\n",
       "</div>"
      ],
      "text/plain": [
       "   fixed_acidity  volatile_acidity  citric_acid  residual_sugar  chlorides  \\\n",
       "0            7.4              0.70         0.00             1.9      0.076   \n",
       "1            7.8              0.88         0.00             2.6      0.098   \n",
       "2            7.8              0.76         0.04             2.3      0.092   \n",
       "3           11.2              0.28         0.56             1.9      0.075   \n",
       "4            7.4              0.70         0.00             1.9      0.076   \n",
       "\n",
       "   free_sulfur_dioxide  total_sulfur_dioxide  density    pH  sulphates  \\\n",
       "0                 11.0                  34.0   0.9978  3.51       0.56   \n",
       "1                 25.0                  67.0   0.9968  3.20       0.68   \n",
       "2                 15.0                  54.0   0.9970  3.26       0.65   \n",
       "3                 17.0                  60.0   0.9980  3.16       0.58   \n",
       "4                 11.0                  34.0   0.9978  3.51       0.56   \n",
       "\n",
       "   alcohol  quality style  \n",
       "0      9.4        5   red  \n",
       "1      9.8        5   red  \n",
       "2      9.8        5   red  \n",
       "3      9.8        6   red  \n",
       "4      9.4        5   red  "
      ]
     },
     "execution_count": 4,
     "metadata": {},
     "output_type": "execute_result"
    }
   ],
   "source": [
    "arquivo.head()"
   ]
  },
  {
   "cell_type": "code",
   "execution_count": 5,
   "id": "a86152eb",
   "metadata": {},
   "outputs": [],
   "source": [
    "#Na coluna Style os valores estão como string e precisam estar como numeros\n",
    "arquivo['style'] = arquivo['style'].replace('red', 0)"
   ]
  },
  {
   "cell_type": "code",
   "execution_count": 6,
   "id": "9203186d",
   "metadata": {},
   "outputs": [],
   "source": [
    "arquivo['style'] = arquivo['style'].replace('white', 1)"
   ]
  },
  {
   "cell_type": "code",
   "execution_count": 9,
   "id": "2b66625d",
   "metadata": {},
   "outputs": [],
   "source": [
    "#Separando as variáveis entre preditoras e variável alvo. A alvo é o Y que é a coluna style.\n",
    "y = arquivo['style']\n",
    "x = arquivo.drop('style', axis = 1) #esta excluindo a coluna style o axis=1 diz que estamos trabalhando com a coluna"
   ]
  },
  {
   "cell_type": "code",
   "execution_count": 10,
   "id": "e1648292",
   "metadata": {},
   "outputs": [
    {
     "name": "stdout",
     "output_type": "stream",
     "text": [
      "(6497, 13) (4547, 12) (1950, 12) (4547,) (1950,)\n"
     ]
    }
   ],
   "source": [
    "from sklearn.model_selection import train_test_split\n",
    "\n",
    "#criando os conjuntos de dados de treino e teste\n",
    "x_treino, x_teste, y_treino, y_teste = train_test_split(x, y, test_size = 0.3)\n",
    "print(arquivo.shape, x_treino.shape, x_teste.shape, y_treino.shape, y_teste.shape)"
   ]
  },
  {
   "cell_type": "code",
   "execution_count": 12,
   "id": "d41a24c1",
   "metadata": {},
   "outputs": [
    {
     "name": "stdout",
     "output_type": "stream",
     "text": [
      "Acurácia: 0.9953846153846154\n"
     ]
    }
   ],
   "source": [
    "from sklearn.ensemble import ExtraTreesClassifier\n",
    "\n",
    "#Criação do modelo:\n",
    "modelo = ExtraTreesClassifier()\n",
    "modelo.fit(x_treino, y_treino)\n",
    "\n",
    "#Imprimindo os resultados\n",
    "resultado = modelo.score(x_teste, y_teste)\n",
    "print(\"Acurácia:\", resultado)"
   ]
  },
  {
   "cell_type": "code",
   "execution_count": 13,
   "id": "fe38110b",
   "metadata": {},
   "outputs": [
    {
     "data": {
      "text/plain": [
       "6115    1\n",
       "3570    1\n",
       "4822    1\n",
       "4702    1\n",
       "1686    1\n",
       "Name: style, dtype: int64"
      ]
     },
     "execution_count": 13,
     "metadata": {},
     "output_type": "execute_result"
    }
   ],
   "source": [
    "y_teste[400:405]"
   ]
  },
  {
   "cell_type": "code",
   "execution_count": 44,
   "id": "daed6f72",
   "metadata": {
    "scrolled": true
   },
   "outputs": [
    {
     "data": {
      "text/html": [
       "<div>\n",
       "<style scoped>\n",
       "    .dataframe tbody tr th:only-of-type {\n",
       "        vertical-align: middle;\n",
       "    }\n",
       "\n",
       "    .dataframe tbody tr th {\n",
       "        vertical-align: top;\n",
       "    }\n",
       "\n",
       "    .dataframe thead th {\n",
       "        text-align: right;\n",
       "    }\n",
       "</style>\n",
       "<table border=\"1\" class=\"dataframe\">\n",
       "  <thead>\n",
       "    <tr style=\"text-align: right;\">\n",
       "      <th></th>\n",
       "      <th>fixed_acidity</th>\n",
       "      <th>volatile_acidity</th>\n",
       "      <th>citric_acid</th>\n",
       "      <th>residual_sugar</th>\n",
       "      <th>chlorides</th>\n",
       "      <th>free_sulfur_dioxide</th>\n",
       "      <th>total_sulfur_dioxide</th>\n",
       "      <th>density</th>\n",
       "      <th>pH</th>\n",
       "      <th>sulphates</th>\n",
       "      <th>alcohol</th>\n",
       "      <th>quality</th>\n",
       "    </tr>\n",
       "  </thead>\n",
       "  <tbody>\n",
       "    <tr>\n",
       "      <th>6115</th>\n",
       "      <td>6.2</td>\n",
       "      <td>0.32</td>\n",
       "      <td>0.32</td>\n",
       "      <td>2.2</td>\n",
       "      <td>0.036</td>\n",
       "      <td>15.0</td>\n",
       "      <td>70.0</td>\n",
       "      <td>0.98990</td>\n",
       "      <td>3.16</td>\n",
       "      <td>0.48</td>\n",
       "      <td>12.7</td>\n",
       "      <td>6</td>\n",
       "    </tr>\n",
       "    <tr>\n",
       "      <th>3570</th>\n",
       "      <td>6.3</td>\n",
       "      <td>0.41</td>\n",
       "      <td>0.30</td>\n",
       "      <td>3.2</td>\n",
       "      <td>0.030</td>\n",
       "      <td>49.0</td>\n",
       "      <td>164.0</td>\n",
       "      <td>0.99270</td>\n",
       "      <td>3.53</td>\n",
       "      <td>0.79</td>\n",
       "      <td>11.7</td>\n",
       "      <td>7</td>\n",
       "    </tr>\n",
       "    <tr>\n",
       "      <th>4822</th>\n",
       "      <td>8.2</td>\n",
       "      <td>0.30</td>\n",
       "      <td>0.44</td>\n",
       "      <td>12.4</td>\n",
       "      <td>0.043</td>\n",
       "      <td>52.0</td>\n",
       "      <td>154.0</td>\n",
       "      <td>0.99452</td>\n",
       "      <td>3.04</td>\n",
       "      <td>0.33</td>\n",
       "      <td>12.0</td>\n",
       "      <td>6</td>\n",
       "    </tr>\n",
       "    <tr>\n",
       "      <th>4702</th>\n",
       "      <td>7.0</td>\n",
       "      <td>0.25</td>\n",
       "      <td>0.45</td>\n",
       "      <td>2.3</td>\n",
       "      <td>0.045</td>\n",
       "      <td>40.0</td>\n",
       "      <td>118.0</td>\n",
       "      <td>0.99064</td>\n",
       "      <td>3.16</td>\n",
       "      <td>0.48</td>\n",
       "      <td>11.9</td>\n",
       "      <td>7</td>\n",
       "    </tr>\n",
       "    <tr>\n",
       "      <th>1686</th>\n",
       "      <td>6.8</td>\n",
       "      <td>0.25</td>\n",
       "      <td>0.31</td>\n",
       "      <td>13.3</td>\n",
       "      <td>0.050</td>\n",
       "      <td>69.0</td>\n",
       "      <td>202.0</td>\n",
       "      <td>0.99720</td>\n",
       "      <td>3.22</td>\n",
       "      <td>0.48</td>\n",
       "      <td>9.7</td>\n",
       "      <td>6</td>\n",
       "    </tr>\n",
       "  </tbody>\n",
       "</table>\n",
       "</div>"
      ],
      "text/plain": [
       "      fixed_acidity  volatile_acidity  citric_acid  residual_sugar  chlorides  \\\n",
       "6115            6.2              0.32         0.32             2.2      0.036   \n",
       "3570            6.3              0.41         0.30             3.2      0.030   \n",
       "4822            8.2              0.30         0.44            12.4      0.043   \n",
       "4702            7.0              0.25         0.45             2.3      0.045   \n",
       "1686            6.8              0.25         0.31            13.3      0.050   \n",
       "\n",
       "      free_sulfur_dioxide  total_sulfur_dioxide  density    pH  sulphates  \\\n",
       "6115                 15.0                  70.0  0.98990  3.16       0.48   \n",
       "3570                 49.0                 164.0  0.99270  3.53       0.79   \n",
       "4822                 52.0                 154.0  0.99452  3.04       0.33   \n",
       "4702                 40.0                 118.0  0.99064  3.16       0.48   \n",
       "1686                 69.0                 202.0  0.99720  3.22       0.48   \n",
       "\n",
       "      alcohol  quality  \n",
       "6115     12.7        6  \n",
       "3570     11.7        7  \n",
       "4822     12.0        6  \n",
       "4702     11.9        7  \n",
       "1686      9.7        6  "
      ]
     },
     "execution_count": 44,
     "metadata": {},
     "output_type": "execute_result"
    }
   ],
   "source": [
    "x_teste[400:405]"
   ]
  },
  {
   "cell_type": "code",
   "execution_count": 47,
   "id": "c5f6be6a",
   "metadata": {},
   "outputs": [],
   "source": [
    "previsoes = modelo.predict(x_teste[400:410])\n"
   ]
  },
  {
   "cell_type": "code",
   "execution_count": 51,
   "id": "e9bba97a",
   "metadata": {},
   "outputs": [
    {
     "name": "stdout",
     "output_type": "stream",
     "text": [
      "vinho branco\n"
     ]
    }
   ],
   "source": [
    "if previsoes.all(): \n",
    "    print('vinho tinto')\n",
    "else:\n",
    "    print('vinho branco')"
   ]
  },
  {
   "cell_type": "code",
   "execution_count": null,
   "id": "a6d3d9ae",
   "metadata": {},
   "outputs": [],
   "source": []
  },
  {
   "cell_type": "code",
   "execution_count": null,
   "id": "c2444f65",
   "metadata": {},
   "outputs": [],
   "source": []
  },
  {
   "cell_type": "code",
   "execution_count": null,
   "id": "2792947d",
   "metadata": {},
   "outputs": [],
   "source": []
  },
  {
   "cell_type": "code",
   "execution_count": null,
   "id": "fdd546de",
   "metadata": {},
   "outputs": [],
   "source": []
  },
  {
   "cell_type": "code",
   "execution_count": null,
   "id": "e35871d2",
   "metadata": {},
   "outputs": [],
   "source": []
  },
  {
   "cell_type": "code",
   "execution_count": null,
   "id": "1b666806",
   "metadata": {},
   "outputs": [],
   "source": []
  },
  {
   "cell_type": "code",
   "execution_count": null,
   "id": "7367eae1",
   "metadata": {},
   "outputs": [],
   "source": []
  },
  {
   "cell_type": "code",
   "execution_count": null,
   "id": "bb8e4728",
   "metadata": {},
   "outputs": [],
   "source": []
  },
  {
   "cell_type": "code",
   "execution_count": null,
   "id": "3183c6e8",
   "metadata": {},
   "outputs": [],
   "source": []
  },
  {
   "cell_type": "code",
   "execution_count": null,
   "id": "186048f5",
   "metadata": {},
   "outputs": [],
   "source": []
  },
  {
   "cell_type": "code",
   "execution_count": null,
   "id": "7211cdb8",
   "metadata": {},
   "outputs": [],
   "source": []
  }
 ],
 "metadata": {
  "kernelspec": {
   "display_name": "Python 3 (ipykernel)",
   "language": "python",
   "name": "python3"
  },
  "language_info": {
   "codemirror_mode": {
    "name": "ipython",
    "version": 3
   },
   "file_extension": ".py",
   "mimetype": "text/x-python",
   "name": "python",
   "nbconvert_exporter": "python",
   "pygments_lexer": "ipython3",
   "version": "3.9.7"
  }
 },
 "nbformat": 4,
 "nbformat_minor": 5
}
