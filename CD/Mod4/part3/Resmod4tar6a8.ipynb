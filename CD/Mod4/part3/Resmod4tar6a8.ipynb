{
 "cells": [
  {
   "cell_type": "markdown",
   "metadata": {},
   "source": [
    "# Tarefa 03\n",
    "\n",
    "- Leia os enunciados com atenção\n",
    "- Saiba que pode haver mais de uma resposta correta\n",
    "- Insira novas células de código sempre que achar necessário\n",
    "- Em caso de dúvidas, procure os Tutores\n",
    "- Divirta-se :)"
   ]
  },
  {
   "cell_type": "code",
   "execution_count": 27,
   "metadata": {},
   "outputs": [],
   "source": [
    "import pandas as pd\n",
    "import requests"
   ]
  },
  {
   "cell_type": "markdown",
   "metadata": {},
   "source": [
    "####  1) Lendo de APIs\n",
    "Vimos em aula como carregar dados públicos do governo através de um API (*Application Programming Interface*). No exemplo de aula, baixamos os dados de pedidos de verificação de limites (PVL) realizados por estados, e selecionamos apenas aqueles referentes ao estado de São Paulo.\n",
    "\n",
    "1. Repita os mesmos passos feitos em aula, mas selecione os PVLs realizados por municípios no estado do Rio de Janeiro.\n",
    "2. Quais são os três *status* das solicitações mais frequentes na base? Quais são suas frequências?\n",
    "3. Construa uma nova variável que contenha o ano do **status**. Observe que ```data_status``` vem como tipo *object* no **DataFrame**. Dica: você pode usar o método ```.str``` para transformar o tipo da variável em string, em seguida um método como [**slice()**](https://pandas.pydata.org/docs/reference/api/pandas.Series.str.slice.html) ou [**split()**](https://pandas.pydata.org/pandas-docs/stable/reference/api/pandas.Series.str.split.html).\n",
    "4. Indique a frequência de cada ano do campo construído no item (3)."
   ]
  },
  {
   "cell_type": "code",
   "execution_count": 58,
   "metadata": {},
   "outputs": [
    {
     "name": "stdout",
     "output_type": "stream",
     "text": [
      "     id_pleito tipo_interessado         interessado  cod_ibge  uf  \\\n",
      "0        11707        Município  São João de Meriti   3305109  RJ   \n",
      "1         9308        Município         Nova Iguaçu   3303500  RJ   \n",
      "2         6644        Município  São João de Meriti   3305109  RJ   \n",
      "3        27100        Município      Rio de Janeiro   3304557  RJ   \n",
      "4        34869        Município         Nova Iguaçu   3303500  RJ   \n",
      "..         ...              ...                 ...       ...  ..   \n",
      "220       9096        Município            Cordeiro   3301504  RJ   \n",
      "221      12602        Município           Vassouras   3306206  RJ   \n",
      "222      42252        Município            Itatiaia   3302254  RJ   \n",
      "223      11272        Município      Rio de Janeiro   3304557  RJ   \n",
      "224       6390        Município           Cantagalo   3301108  RJ   \n",
      "\n",
      "                  num_pvl                                             status  \\\n",
      "0                    None                                           Deferido   \n",
      "1                    None                                       Regularizado   \n",
      "2                    None                     Arquivado por decurso de prazo   \n",
      "3    PVL02.002429/2017-78                     Arquivado por decurso de prazo   \n",
      "4    PVL02.003184/2019-68                                           Deferido   \n",
      "..                    ...                                                ...   \n",
      "220                  None                                          Arquivado   \n",
      "221                  None                                          Arquivado   \n",
      "222  PVL02.000042/2020-82  Encaminhado à PGFN com manifestação técnica fa...   \n",
      "223                  None                                           Deferido   \n",
      "224                  None                                          Arquivado   \n",
      "\n",
      "             num_processo        data_protocolo  \\\n",
      "0    17944.001508/2011-39  2012-04-02T03:00:00Z   \n",
      "1    17944.000951/2007-14  2007-06-18T03:00:00Z   \n",
      "2    17944.000400/2010-48  2011-12-23T02:00:00Z   \n",
      "3    17944.103668/2017-15  2018-07-31T21:50:09Z   \n",
      "4    17944.103149/2019-19  2019-09-03T21:24:51Z   \n",
      "..                    ...                   ...   \n",
      "220  17944.000902/2008-54  2008-06-16T03:00:00Z   \n",
      "221  17944.001723/2008-34  2008-07-10T03:00:00Z   \n",
      "222  17944.101489/2020-31  2020-05-19T13:29:59Z   \n",
      "223  17944.001398/2013-77  2013-11-25T02:00:00Z   \n",
      "224  17944.000335/2008-36  2008-04-10T03:00:00Z   \n",
      "\n",
      "                                         tipo_operacao  \\\n",
      "0                          Operação contratual interna   \n",
      "1                          Operação contratual interna   \n",
      "2                          Operação contratual interna   \n",
      "3                          Operação contratual interna   \n",
      "4                          Operação contratual interna   \n",
      "..                                                 ...   \n",
      "220                        Operação contratual interna   \n",
      "221                        Operação contratual interna   \n",
      "222  Operação contratual interna (com garantia da U...   \n",
      "223                        Operação contratual interna   \n",
      "224                        Operação contratual interna   \n",
      "\n",
      "                                            finalidade  \\\n",
      "0                                                 PMAT   \n",
      "1           Regularização de Dívida - Energia Elétrica   \n",
      "2                                                RELUZ   \n",
      "3                                       Infraestrutura   \n",
      "4                                       Infraestrutura   \n",
      "..                                                 ...   \n",
      "220                                Caminho da Escola 2   \n",
      "221                                  Caminho da Escola   \n",
      "222                                     Infraestrutura   \n",
      "223  PAC 2 - Pró-Transporte - Pavimentação e Qualif...   \n",
      "224                                  Caminho da Escola   \n",
      "\n",
      "                         tipo_credor  \\\n",
      "0    Instituição Financeira Nacional   \n",
      "1                Empresa Não Estatal   \n",
      "2                Empresa Não Estatal   \n",
      "3    Instituição Financeira Nacional   \n",
      "4    Instituição Financeira Nacional   \n",
      "..                               ...   \n",
      "220  Instituição Financeira Nacional   \n",
      "221  Instituição Financeira Nacional   \n",
      "222  Instituição Financeira Nacional   \n",
      "223  Instituição Financeira Nacional   \n",
      "224  Instituição Financeira Nacional   \n",
      "\n",
      "                                                credor moeda        valor  \\\n",
      "0    Banco Nacional de Desenvolvimento Econômico e ...  Real   18000000.0   \n",
      "1                 Light - Serviços de Eletricidade S/A  Real    1451915.2   \n",
      "2                 Light - Serviços de Eletricidade S/A  Real    7137589.0   \n",
      "3                              Caixa Econômica Federal  Real  100000000.0   \n",
      "4                              Caixa Econômica Federal  Real  140000000.0   \n",
      "..                                                 ...   ...          ...   \n",
      "220                                Banco do Brasil S/A  Real     126750.0   \n",
      "221                            Caixa Econômica Federal  Real    1029900.0   \n",
      "222                                Banco do Brasil S/A  Real   30000000.0   \n",
      "223                            Caixa Econômica Federal  Real  500000000.0   \n",
      "224                                Banco do Brasil S/A  Real     483160.0   \n",
      "\n",
      "     pvl_assoc_divida  pvl_contradado_credor data_status  \n",
      "0                   0                      0  18/05/2012  \n",
      "1                   1                      0  02/08/2007  \n",
      "2                   0                      0  18/01/2013  \n",
      "3                   0                      0  07/01/2019  \n",
      "4                   1                      0  11/09/2019  \n",
      "..                ...                    ...         ...  \n",
      "220                 0                      0  15/09/2008  \n",
      "221                 0                      0  29/07/2008  \n",
      "222                 1                      1  21/05/2020  \n",
      "223                 1                      0  06/12/2013  \n",
      "224                 0                      0  14/05/2008  \n",
      "\n",
      "[225 rows x 18 columns]\n"
     ]
    }
   ],
   "source": [
    "# 1) Seu código aqui\n",
    "url = 'https://apidatalake.tesouro.gov.br/ords/sadipem/tt/pvl?uf=RJ&tipo_interessado=Munic%C3%ADpio'\n",
    "api = requests.get(url)\n",
    "dj = api.json()\n",
    "df_rj = pd.DataFrame(dj['items'])\n",
    "print (df_rj)\n",
    "\n",
    "\n"
   ]
  },
  {
   "cell_type": "code",
   "execution_count": 57,
   "metadata": {},
   "outputs": [
    {
     "data": {
      "text/plain": [
       "Deferido        88\n",
       "Arquivado       53\n",
       "Regularizado    25\n",
       "Name: status, dtype: int64"
      ]
     },
     "execution_count": 57,
     "metadata": {},
     "output_type": "execute_result"
    }
   ],
   "source": [
    "# 2) Seu código aqui\n",
    "df_rj['status'].value_counts().head(3)\n"
   ]
  },
  {
   "cell_type": "code",
   "execution_count": 70,
   "metadata": {
    "scrolled": true
   },
   "outputs": [
    {
     "name": "stdout",
     "output_type": "stream",
     "text": [
      "     id_pleito tipo_interessado         interessado  cod_ibge  uf  \\\n",
      "0        11707        Município  São João de Meriti   3305109  RJ   \n",
      "1         9308        Município         Nova Iguaçu   3303500  RJ   \n",
      "2         6644        Município  São João de Meriti   3305109  RJ   \n",
      "3        27100        Município      Rio de Janeiro   3304557  RJ   \n",
      "4        34869        Município         Nova Iguaçu   3303500  RJ   \n",
      "..         ...              ...                 ...       ...  ..   \n",
      "220       9096        Município            Cordeiro   3301504  RJ   \n",
      "221      12602        Município           Vassouras   3306206  RJ   \n",
      "222      42252        Município            Itatiaia   3302254  RJ   \n",
      "223      11272        Município      Rio de Janeiro   3304557  RJ   \n",
      "224       6390        Município           Cantagalo   3301108  RJ   \n",
      "\n",
      "                  num_pvl                                             status  \\\n",
      "0                    None                                           Deferido   \n",
      "1                    None                                       Regularizado   \n",
      "2                    None                     Arquivado por decurso de prazo   \n",
      "3    PVL02.002429/2017-78                     Arquivado por decurso de prazo   \n",
      "4    PVL02.003184/2019-68                                           Deferido   \n",
      "..                    ...                                                ...   \n",
      "220                  None                                          Arquivado   \n",
      "221                  None                                          Arquivado   \n",
      "222  PVL02.000042/2020-82  Encaminhado à PGFN com manifestação técnica fa...   \n",
      "223                  None                                           Deferido   \n",
      "224                  None                                          Arquivado   \n",
      "\n",
      "             num_processo        data_protocolo  \\\n",
      "0    17944.001508/2011-39  2012-04-02T03:00:00Z   \n",
      "1    17944.000951/2007-14  2007-06-18T03:00:00Z   \n",
      "2    17944.000400/2010-48  2011-12-23T02:00:00Z   \n",
      "3    17944.103668/2017-15  2018-07-31T21:50:09Z   \n",
      "4    17944.103149/2019-19  2019-09-03T21:24:51Z   \n",
      "..                    ...                   ...   \n",
      "220  17944.000902/2008-54  2008-06-16T03:00:00Z   \n",
      "221  17944.001723/2008-34  2008-07-10T03:00:00Z   \n",
      "222  17944.101489/2020-31  2020-05-19T13:29:59Z   \n",
      "223  17944.001398/2013-77  2013-11-25T02:00:00Z   \n",
      "224  17944.000335/2008-36  2008-04-10T03:00:00Z   \n",
      "\n",
      "                                         tipo_operacao  \\\n",
      "0                          Operação contratual interna   \n",
      "1                          Operação contratual interna   \n",
      "2                          Operação contratual interna   \n",
      "3                          Operação contratual interna   \n",
      "4                          Operação contratual interna   \n",
      "..                                                 ...   \n",
      "220                        Operação contratual interna   \n",
      "221                        Operação contratual interna   \n",
      "222  Operação contratual interna (com garantia da U...   \n",
      "223                        Operação contratual interna   \n",
      "224                        Operação contratual interna   \n",
      "\n",
      "                                            finalidade  \\\n",
      "0                                                 PMAT   \n",
      "1           Regularização de Dívida - Energia Elétrica   \n",
      "2                                                RELUZ   \n",
      "3                                       Infraestrutura   \n",
      "4                                       Infraestrutura   \n",
      "..                                                 ...   \n",
      "220                                Caminho da Escola 2   \n",
      "221                                  Caminho da Escola   \n",
      "222                                     Infraestrutura   \n",
      "223  PAC 2 - Pró-Transporte - Pavimentação e Qualif...   \n",
      "224                                  Caminho da Escola   \n",
      "\n",
      "                         tipo_credor  \\\n",
      "0    Instituição Financeira Nacional   \n",
      "1                Empresa Não Estatal   \n",
      "2                Empresa Não Estatal   \n",
      "3    Instituição Financeira Nacional   \n",
      "4    Instituição Financeira Nacional   \n",
      "..                               ...   \n",
      "220  Instituição Financeira Nacional   \n",
      "221  Instituição Financeira Nacional   \n",
      "222  Instituição Financeira Nacional   \n",
      "223  Instituição Financeira Nacional   \n",
      "224  Instituição Financeira Nacional   \n",
      "\n",
      "                                                credor moeda        valor  \\\n",
      "0    Banco Nacional de Desenvolvimento Econômico e ...  Real   18000000.0   \n",
      "1                 Light - Serviços de Eletricidade S/A  Real    1451915.2   \n",
      "2                 Light - Serviços de Eletricidade S/A  Real    7137589.0   \n",
      "3                              Caixa Econômica Federal  Real  100000000.0   \n",
      "4                              Caixa Econômica Federal  Real  140000000.0   \n",
      "..                                                 ...   ...          ...   \n",
      "220                                Banco do Brasil S/A  Real     126750.0   \n",
      "221                            Caixa Econômica Federal  Real    1029900.0   \n",
      "222                                Banco do Brasil S/A  Real   30000000.0   \n",
      "223                            Caixa Econômica Federal  Real  500000000.0   \n",
      "224                                Banco do Brasil S/A  Real     483160.0   \n",
      "\n",
      "     pvl_assoc_divida  pvl_contradado_credor data_status ano_status   ano  \n",
      "0                   0                      0  18/05/2012       2012  2012  \n",
      "1                   1                      0  02/08/2007       2007  2007  \n",
      "2                   0                      0  18/01/2013       2013  2013  \n",
      "3                   0                      0  07/01/2019       2019  2019  \n",
      "4                   1                      0  11/09/2019       2019  2019  \n",
      "..                ...                    ...         ...        ...   ...  \n",
      "220                 0                      0  15/09/2008       2008  2008  \n",
      "221                 0                      0  29/07/2008       2008  2008  \n",
      "222                 1                      1  21/05/2020       2020  2020  \n",
      "223                 1                      0  06/12/2013       2013  2013  \n",
      "224                 0                      0  14/05/2008       2008  2008  \n",
      "\n",
      "[225 rows x 20 columns]\n"
     ]
    }
   ],
   "source": [
    "# 3) Seu código\n",
    "list_ano = []\n",
    "\n",
    "for i in df_rj['data_status'].str.slice():\n",
    "    list_ano.append(i[-4:])\n",
    "\n",
    "df_rj['ano'] = list_ano\n",
    "print(df_rj)"
   ]
  },
  {
   "cell_type": "code",
   "execution_count": 69,
   "metadata": {},
   "outputs": [
    {
     "data": {
      "text/plain": [
       "2008    37\n",
       "2007    29\n",
       "2014    20\n",
       "2010    19\n",
       "2019    17\n",
       "2013    15\n",
       "2020    15\n",
       "2012    13\n",
       "2011    10\n",
       "2015     9\n",
       "2009     9\n",
       "2021     5\n",
       "2017     5\n",
       "2016     4\n",
       "2006     4\n",
       "2022     4\n",
       "2018     4\n",
       "2002     4\n",
       "2004     1\n",
       "2003     1\n",
       "Name: ano, dtype: int64"
      ]
     },
     "execution_count": 69,
     "metadata": {},
     "output_type": "execute_result"
    }
   ],
   "source": [
    "# 4) Seu código aqui\n",
    "df_rj['ano'].value_counts()"
   ]
  },
  {
   "cell_type": "markdown",
   "metadata": {},
   "source": [
    "####  2) Melhorando a interação com o API\n",
    "Observe dois URLs de consultas diferentes, por exemplo o URL utilizado em aula, e o URL feito no exercício anterior. Compare-os e observe as diferenças.\n",
    "\n",
    "1. Faça uma função em Python que recebe como argumento o UF da consulta e o tipo de interessado (```'Estado'```ou ```Município```), e que devolve os dados da consulta no formato *DataFrame*.\n",
    "2. Quantas solicitações para o Estado podem ser consultadas para Minas Gerais com *status* em 'Arquivado por decurso de prazo' estão registradas?\n",
    "3. Qual é o município da Bahia com mais solicitações deferidas?\n",
    "4. Salve um arquivo .csv com os dados de solicitações da Bahia, com interessado = 'Estado'"
   ]
  },
  {
   "cell_type": "code",
   "execution_count": 71,
   "metadata": {},
   "outputs": [],
   "source": [
    "#1) Seu código aqui\n",
    "#'https://apidatalake.tesouro.gov.br/ords/sadipem/tt/pvl?uf=SP&tipo_interessado=Estado'\n",
    "#'https://apidatalake.tesouro.gov.br/ords/sadipem/tt/pvl?uf=RJ&tipo_interessado=Munic%C3%ADpio'\n",
    "def consulta(uf, interessado):\n",
    "    \n",
    "    if interessado[:3].lower() in 'estado':\n",
    "        interessado = 'Estado'\n",
    "    elif interessado[:3].lower() in 'municipio':\n",
    "        interessado = 'Município'\n",
    "    \n",
    "    url = 'http://apidatalake.tesouro.gov.br/ords/sadipem/tt/pvl?uf=' + uf.upper() + '&tipo_interessado='+ interessado\n",
    "    r = requests.get(url)\n",
    "    data_json = r.json()\n",
    "    \n",
    "    return pd.DataFrame(data_json['items'])\n"
   ]
  },
  {
   "cell_type": "code",
   "execution_count": 73,
   "metadata": {
    "scrolled": true
   },
   "outputs": [
    {
     "data": {
      "text/plain": [
       "Arquivado por decurso de prazo    1\n",
       "Name: status, dtype: int64"
      ]
     },
     "execution_count": 73,
     "metadata": {},
     "output_type": "execute_result"
    }
   ],
   "source": [
    "# 2) Seu código aqui\n",
    "df_mg = consulta('mg','estado')\n",
    "df_mg[df_mg['status'] == 'Arquivado por decurso de prazo'].status.value_counts()"
   ]
  },
  {
   "cell_type": "code",
   "execution_count": 75,
   "metadata": {
    "scrolled": true
   },
   "outputs": [
    {
     "data": {
      "text/plain": [
       "Luís Eduardo Magalhães    14\n",
       "Name: interessado, dtype: int64"
      ]
     },
     "execution_count": 75,
     "metadata": {},
     "output_type": "execute_result"
    }
   ],
   "source": [
    "# 3) Seu código aqui\n",
    "df_ba = consulta('ba','municipio')\n",
    "df_ba.loc[df_ba['status'] == 'Deferido', 'interessado'].value_counts().head(1)"
   ]
  },
  {
   "cell_type": "code",
   "execution_count": 77,
   "metadata": {},
   "outputs": [],
   "source": [
    "# 4) Seu código aqui\n",
    "consulta('ba','estado').to_csv('./bahia_estado.csv')"
   ]
  },
  {
   "cell_type": "code",
   "execution_count": null,
   "metadata": {},
   "outputs": [],
   "source": []
  }
 ],
 "metadata": {
  "kernelspec": {
   "display_name": "Python 3 (ipykernel)",
   "language": "python",
   "name": "python3"
  },
  "language_info": {
   "codemirror_mode": {
    "name": "ipython",
    "version": 3
   },
   "file_extension": ".py",
   "mimetype": "text/x-python",
   "name": "python",
   "nbconvert_exporter": "python",
   "pygments_lexer": "ipython3",
   "version": "3.9.7"
  }
 },
 "nbformat": 4,
 "nbformat_minor": 4
}
